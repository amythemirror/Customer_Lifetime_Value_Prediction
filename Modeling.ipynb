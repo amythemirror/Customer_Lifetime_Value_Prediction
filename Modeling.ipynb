{
 "cells": [
  {
   "cell_type": "markdown",
   "metadata": {},
   "source": [
    "# Modeling"
   ]
  },
  {
   "cell_type": "markdown",
   "metadata": {},
   "source": [
    "This is a classification problem in supervised learning. We will evaluate below classification algorithms:  \n",
    "1. Logistic Regression  \n",
    "2. K-Nearest Neighbors (KNN)  \n",
    "3. Support vector machine (SVM)  \n",
    "4. Random Forest  \n",
    "5. Naive Bayes  \n",
    "6. Gradient Boost"
   ]
  },
  {
   "cell_type": "code",
   "execution_count": 1,
   "metadata": {},
   "outputs": [],
   "source": [
    "import pandas as pd\n",
    "import numpy as np\n",
    "from sklearn.model_selection import RandomizedSearchCV\n",
    "from time import time\n",
    "import pickle"
   ]
  },
  {
   "cell_type": "code",
   "execution_count": 2,
   "metadata": {},
   "outputs": [],
   "source": [
    "X_train = pd.read_csv('X_train.csv')\n",
    "X_train_scaled = pd.read_csv('X_train_scaled.csv')\n",
    "X_test = pd.read_csv('X_test.csv')\n",
    "X_test_scaled = pd.read_csv('X_test_scaled.csv')\n",
    "y_train = pd.read_csv('y_train.csv',squeeze=True)\n",
    "y_test = pd.read_csv('y_test.csv',squeeze=True)"
   ]
  },
  {
   "cell_type": "markdown",
   "metadata": {},
   "source": [
    "### Baseline Model"
   ]
  },
  {
   "cell_type": "markdown",
   "metadata": {},
   "source": [
    "We create a simple baseline classifier here to compare with other real classifiers."
   ]
  },
  {
   "cell_type": "code",
   "execution_count": 3,
   "metadata": {},
   "outputs": [
    {
     "data": {
      "text/plain": [
       "0.6929473520087314"
      ]
     },
     "execution_count": 3,
     "metadata": {},
     "output_type": "execute_result"
    }
   ],
   "source": [
    "from sklearn.dummy import DummyClassifier\n",
    "\n",
    "dummy = DummyClassifier(strategy='most_frequent',random_state=0)\n",
    "dummy.fit(X_train,y_train)\n",
    "dummy.score(X_test,y_test)"
   ]
  },
  {
   "cell_type": "markdown",
   "metadata": {},
   "source": [
    "### 1. Logistic Regression"
   ]
  },
  {
   "cell_type": "markdown",
   "metadata": {},
   "source": [
    "Some combinations were omitted to cut back on the warnings/errors."
   ]
  },
  {
   "cell_type": "code",
   "execution_count": 4,
   "metadata": {},
   "outputs": [
    {
     "name": "stderr",
     "output_type": "stream",
     "text": [
      "C:\\Users\\Billy\\anaconda3\\lib\\site-packages\\sklearn\\model_selection\\_validation.py:536: FitFailedWarning: Estimator fit failed. The score on this train-test partition for these parameters will be set to nan. Details: \n",
      "ValueError: Solver lbfgs supports only 'l2' or 'none' penalties, got l1 penalty.\n",
      "\n",
      "  FitFailedWarning)\n",
      "C:\\Users\\Billy\\anaconda3\\lib\\site-packages\\sklearn\\model_selection\\_validation.py:536: FitFailedWarning: Estimator fit failed. The score on this train-test partition for these parameters will be set to nan. Details: \n",
      "ValueError: Solver newton-cg supports only 'l2' or 'none' penalties, got l1 penalty.\n",
      "\n",
      "  FitFailedWarning)\n",
      "C:\\Users\\Billy\\anaconda3\\lib\\site-packages\\sklearn\\model_selection\\_validation.py:536: FitFailedWarning: Estimator fit failed. The score on this train-test partition for these parameters will be set to nan. Details: \n",
      "ValueError: Solver lbfgs supports only 'l2' or 'none' penalties, got l1 penalty.\n",
      "\n",
      "  FitFailedWarning)\n"
     ]
    },
    {
     "data": {
      "text/plain": [
       "{'solver': 'liblinear', 'penalty': 'l2', 'C': 1}"
      ]
     },
     "execution_count": 4,
     "metadata": {},
     "output_type": "execute_result"
    }
   ],
   "source": [
    "from sklearn.linear_model import LogisticRegression\n",
    "\n",
    "lr = LogisticRegression(max_iter=1000,random_state=0)\n",
    "param_distributions = {\n",
    "                        'C': [0.01,0.1,1,10,100],\n",
    "                        'penalty': ['l1','l2'],\n",
    "                        'solver': ['newton-cg','lbfgs','liblinear','sag','saga']\n",
    "}\n",
    "search = RandomizedSearchCV(lr,param_distributions,cv=5,random_state=0)\n",
    "\n",
    "search.fit(X_train_scaled,y_train)\n",
    "search.best_params_"
   ]
  },
  {
   "cell_type": "code",
   "execution_count": 5,
   "metadata": {},
   "outputs": [
    {
     "data": {
      "text/plain": [
       "0.8549451691700015"
      ]
     },
     "execution_count": 5,
     "metadata": {},
     "output_type": "execute_result"
    }
   ],
   "source": [
    "lr = search.best_estimator_\n",
    "lr.score(X_test_scaled,y_test)"
   ]
  },
  {
   "cell_type": "code",
   "execution_count": 6,
   "metadata": {},
   "outputs": [],
   "source": [
    "with open('lr', 'wb') as file:\n",
    "    pickle.dump(lr,file)\n",
    "\n",
    "# with open('lr', 'rb') as file:\n",
    "#     lr_load = pickle.load(file)"
   ]
  },
  {
   "cell_type": "code",
   "execution_count": 7,
   "metadata": {},
   "outputs": [],
   "source": [
    "# start = time()\n",
    "# lr = LogisticRegression(penalty='l2', C=1, solver='liblinear', max_iter=1000, random_state=0)\n",
    "# lr.fit(X_train_scaled,y_train)\n",
    "# end = time()\n",
    "\n",
    "# lr.score(X_test_scaled,y_test)\n",
    "\n",
    "# lr_time = end - start\n",
    "# print(lr_time)"
   ]
  },
  {
   "cell_type": "markdown",
   "metadata": {},
   "source": [
    "### 2. K-Nearest Neighbors (KNN)"
   ]
  },
  {
   "cell_type": "code",
   "execution_count": 12,
   "metadata": {},
   "outputs": [
    {
     "name": "stdout",
     "output_type": "stream",
     "text": [
      "Fitting 5 folds for each of 10 candidates, totalling 50 fits\n"
     ]
    },
    {
     "name": "stderr",
     "output_type": "stream",
     "text": [
      "[Parallel(n_jobs=-1)]: Using backend LokyBackend with 16 concurrent workers.\n",
      "[Parallel(n_jobs=-1)]: Done  18 tasks      | elapsed:  3.8min\n",
      "[Parallel(n_jobs=-1)]: Done  50 out of  50 | elapsed:  6.0min finished\n"
     ]
    },
    {
     "data": {
      "text/plain": [
       "{'weights': 'distance', 'n_neighbors': 15, 'metric': 'manhattan'}"
      ]
     },
     "execution_count": 12,
     "metadata": {},
     "output_type": "execute_result"
    }
   ],
   "source": [
    "from sklearn.neighbors import KNeighborsClassifier\n",
    "\n",
    "knn = KNeighborsClassifier()\n",
    "param_distributions = {\n",
    "                        'n_neighbors': list(range(1,21,2)),\n",
    "                        'weights': ['uniform','distance'],\n",
    "                        'metric': ['euclidean','manhattan','minkowski']\n",
    "}\n",
    "search = RandomizedSearchCV(knn,param_distributions,cv=5,random_state=0,verbose=1,n_jobs=-1)\n",
    "\n",
    "search.fit(X_train_scaled,y_train)\n",
    "search.best_params_"
   ]
  },
  {
   "cell_type": "code",
   "execution_count": 13,
   "metadata": {},
   "outputs": [
    {
     "data": {
      "text/plain": [
       "0.9999480276492906"
      ]
     },
     "execution_count": 13,
     "metadata": {},
     "output_type": "execute_result"
    }
   ],
   "source": [
    "knn = search.best_estimator_\n",
    "knn.score(X_test_scaled,y_test)"
   ]
  },
  {
   "cell_type": "code",
   "execution_count": 14,
   "metadata": {},
   "outputs": [],
   "source": [
    "with open('knn', 'wb') as file:\n",
    "    pickle.dump(knn,file)"
   ]
  },
  {
   "cell_type": "code",
   "execution_count": 15,
   "metadata": {},
   "outputs": [],
   "source": [
    "# start = time()\n",
    "# knn = KNeighborsClassifier(n_neighbors=4)\n",
    "# knn.fit(X_train_scaled,y_train)\n",
    "# knn.score(X_test_scaled,y_test)\n",
    "# end = time()\n",
    "\n",
    "# knn_time = (end - start)//60\n",
    "# print(knn_time)"
   ]
  },
  {
   "cell_type": "markdown",
   "metadata": {},
   "source": [
    "### 3. Support Vector Machine (SVM)"
   ]
  },
  {
   "cell_type": "code",
   "execution_count": 16,
   "metadata": {},
   "outputs": [
    {
     "name": "stdout",
     "output_type": "stream",
     "text": [
      "Fitting 5 folds for each of 10 candidates, totalling 50 fits\n"
     ]
    },
    {
     "name": "stderr",
     "output_type": "stream",
     "text": [
      "[Parallel(n_jobs=-1)]: Using backend LokyBackend with 16 concurrent workers.\n",
      "[Parallel(n_jobs=-1)]: Done  18 tasks      | elapsed:  7.8min\n",
      "[Parallel(n_jobs=-1)]: Done  50 out of  50 | elapsed: 219.7min finished\n"
     ]
    },
    {
     "data": {
      "text/plain": [
       "{'kernel': 'rbf', 'gamma': 10, 'C': 1}"
      ]
     },
     "execution_count": 16,
     "metadata": {},
     "output_type": "execute_result"
    }
   ],
   "source": [
    "from sklearn.svm import SVC\n",
    "\n",
    "svc = SVC()\n",
    "param_distributions = {\n",
    "                        'C': [0.1, 1, 10, 100],\n",
    "                        'kernel': ['linear','poly','rbf','sigmoid'],\n",
    "                        'gamma': [10, 1, 0.1, 0.01, 0.001, 0.0001]\n",
    "}\n",
    "search = RandomizedSearchCV(svc,param_distributions,cv=5,random_state=0,verbose=1,n_jobs=-1)\n",
    "\n",
    "search.fit(X_train_scaled,y_train)\n",
    "search.best_params_"
   ]
  },
  {
   "cell_type": "code",
   "execution_count": 18,
   "metadata": {},
   "outputs": [
    {
     "data": {
      "text/plain": [
       "0.9590977599916845"
      ]
     },
     "execution_count": 18,
     "metadata": {},
     "output_type": "execute_result"
    }
   ],
   "source": [
    "svc = search.best_estimator_\n",
    "svc.score(X_test_scaled,y_test)"
   ]
  },
  {
   "cell_type": "code",
   "execution_count": 19,
   "metadata": {},
   "outputs": [],
   "source": [
    "with open('svc', 'wb') as file:\n",
    "    pickle.dump(svc,file)"
   ]
  },
  {
   "cell_type": "code",
   "execution_count": 20,
   "metadata": {},
   "outputs": [],
   "source": [
    "# start = time()\n",
    "# svc = SVC()\n",
    "# svc.fit(X_train_scaled,y_train)\n",
    "# end = time()\n",
    "\n",
    "# scv.score(X_test_scaled,y_train)\n",
    "\n",
    "# svc_time = (end - start)//60\n",
    "# print(svc_time)"
   ]
  },
  {
   "cell_type": "markdown",
   "metadata": {},
   "source": [
    "### 4. Random Forest"
   ]
  },
  {
   "cell_type": "code",
   "execution_count": 23,
   "metadata": {},
   "outputs": [
    {
     "name": "stdout",
     "output_type": "stream",
     "text": [
      "Fitting 5 folds for each of 10 candidates, totalling 50 fits\n"
     ]
    },
    {
     "name": "stderr",
     "output_type": "stream",
     "text": [
      "[Parallel(n_jobs=-1)]: Using backend LokyBackend with 16 concurrent workers.\n",
      "[Parallel(n_jobs=-1)]: Done   9 tasks      | elapsed:   13.2s\n",
      "[Parallel(n_jobs=-1)]: Done  45 out of  50 | elapsed:  1.8min remaining:   12.0s\n",
      "[Parallel(n_jobs=-1)]: Done  50 out of  50 | elapsed:  1.9min finished\n"
     ]
    },
    {
     "data": {
      "text/plain": [
       "{'n_estimators': 1000, 'max_features': 1, 'criterion': 'entropy'}"
      ]
     },
     "execution_count": 23,
     "metadata": {},
     "output_type": "execute_result"
    }
   ],
   "source": [
    "from sklearn.ensemble import RandomForestClassifier\n",
    "\n",
    "rf = RandomForestClassifier(random_state=0)\n",
    "param_distributions = {\n",
    "                        'n_estimators': [10, 100, 1000],\n",
    "                        'criterion': ['gini','entropy'],\n",
    "                        'max_features': [1,5,10,15,20]\n",
    "}\n",
    "search = RandomizedSearchCV(rf,param_distributions,cv=5,random_state=0,verbose=2,n_jobs=-1)\n",
    "\n",
    "search.fit(X_train,y_train)\n",
    "search.best_params_"
   ]
  },
  {
   "cell_type": "code",
   "execution_count": 24,
   "metadata": {},
   "outputs": [
    {
     "data": {
      "text/plain": [
       "0.9999480276492906"
      ]
     },
     "execution_count": 24,
     "metadata": {},
     "output_type": "execute_result"
    }
   ],
   "source": [
    "rf = search.best_estimator_\n",
    "rf.score(X_test,y_test)"
   ]
  },
  {
   "cell_type": "code",
   "execution_count": 25,
   "metadata": {},
   "outputs": [],
   "source": [
    "with open('rf', 'wb') as file:\n",
    "    pickle.dump(rf,file)"
   ]
  },
  {
   "cell_type": "code",
   "execution_count": 26,
   "metadata": {},
   "outputs": [],
   "source": [
    "# start = time()\n",
    "# rf = RandomForestClassifier()\n",
    "# rf.fit(X_train,y_train)\n",
    "# end = time()\n",
    "\n",
    "# rf.score(X_test,y_test)\n",
    "\n",
    "# rf_time = (end - start)//60\n",
    "# print(rf_time)"
   ]
  },
  {
   "cell_type": "markdown",
   "metadata": {},
   "source": [
    "### 5. Gaussian Naive Bayes"
   ]
  },
  {
   "cell_type": "code",
   "execution_count": 42,
   "metadata": {},
   "outputs": [
    {
     "name": "stderr",
     "output_type": "stream",
     "text": [
      "C:\\Users\\Billy\\anaconda3\\lib\\site-packages\\sklearn\\model_selection\\_search.py:281: UserWarning: The total space of parameters 5 is smaller than n_iter=10. Running 5 iterations. For exhaustive searches, use GridSearchCV.\n",
      "  % (grid_size, self.n_iter, grid_size), UserWarning)\n",
      "[Parallel(n_jobs=-1)]: Using backend LokyBackend with 16 concurrent workers.\n"
     ]
    },
    {
     "name": "stdout",
     "output_type": "stream",
     "text": [
      "Fitting 5 folds for each of 5 candidates, totalling 25 fits\n"
     ]
    },
    {
     "name": "stderr",
     "output_type": "stream",
     "text": [
      "[Parallel(n_jobs=-1)]: Done   7 out of  25 | elapsed:    2.0s remaining:    5.2s\n",
      "[Parallel(n_jobs=-1)]: Done  20 out of  25 | elapsed:    2.3s remaining:    0.5s\n",
      "[Parallel(n_jobs=-1)]: Done  25 out of  25 | elapsed:    2.3s finished\n"
     ]
    },
    {
     "data": {
      "text/plain": [
       "{'var_smoothing': 1e-09}"
      ]
     },
     "execution_count": 42,
     "metadata": {},
     "output_type": "execute_result"
    }
   ],
   "source": [
    "from sklearn.naive_bayes import GaussianNB\n",
    "\n",
    "nb = GaussianNB()\n",
    "param_distributions = {'var_smoothing': np.logspace(0,-9, num=5)}\n",
    "search = RandomizedSearchCV(nb,param_distributions,cv=5,random_state=0,verbose=2,n_jobs=-1)\n",
    "\n",
    "search.fit(X_train,y_train)\n",
    "search.best_params_"
   ]
  },
  {
   "cell_type": "code",
   "execution_count": 43,
   "metadata": {},
   "outputs": [
    {
     "data": {
      "text/plain": [
       "0.8141988462138142"
      ]
     },
     "execution_count": 43,
     "metadata": {},
     "output_type": "execute_result"
    }
   ],
   "source": [
    "nb = search.best_estimator_\n",
    "nb.score(X_test,y_test)"
   ]
  },
  {
   "cell_type": "code",
   "execution_count": 44,
   "metadata": {},
   "outputs": [],
   "source": [
    "with open('nb', 'wb') as file:\n",
    "    pickle.dump(nb,file)"
   ]
  },
  {
   "cell_type": "code",
   "execution_count": 30,
   "metadata": {},
   "outputs": [],
   "source": [
    "# start = time()\n",
    "# nb = GaussianNB()\n",
    "# nb.fit(X_train,y_train)\n",
    "# end = time()\n",
    "\n",
    "# nb.score(X_test_scaled,y_test)\n",
    "\n",
    "# svc_time = (end - start)//60\n",
    "# print(svc_time)"
   ]
  },
  {
   "cell_type": "markdown",
   "metadata": {},
   "source": [
    "### 6. Gradient Boost - XGBoost"
   ]
  },
  {
   "cell_type": "code",
   "execution_count": 31,
   "metadata": {},
   "outputs": [
    {
     "name": "stderr",
     "output_type": "stream",
     "text": [
      "[Parallel(n_jobs=-1)]: Using backend LokyBackend with 16 concurrent workers.\n"
     ]
    },
    {
     "name": "stdout",
     "output_type": "stream",
     "text": [
      "Fitting 5 folds for each of 10 candidates, totalling 50 fits\n"
     ]
    },
    {
     "name": "stderr",
     "output_type": "stream",
     "text": [
      "[Parallel(n_jobs=-1)]: Done   9 tasks      | elapsed:   15.2s\n",
      "[Parallel(n_jobs=-1)]: Done  45 out of  50 | elapsed:   56.0s remaining:    6.1s\n",
      "[Parallel(n_jobs=-1)]: Done  50 out of  50 | elapsed:  1.2min finished\n"
     ]
    },
    {
     "data": {
      "text/plain": [
       "{'subsample': 0.6,\n",
       " 'reg_lambda': 0.1,\n",
       " 'reg_alpha': 0.5,\n",
       " 'max_depth': 20,\n",
       " 'learning_rate': 0.01,\n",
       " 'gamma': 0.1,\n",
       " 'colsample_bytree': 0.6}"
      ]
     },
     "execution_count": 31,
     "metadata": {},
     "output_type": "execute_result"
    }
   ],
   "source": [
    "import xgboost as xgb\n",
    "\n",
    "xgb = xgb.XGBClassifier()\n",
    "param_distributions = {\n",
    "                        'learning_rate': [0.001,0.01,0.1],\n",
    "                        'max_depth': [2,5,10,20],  \n",
    "                        'gamma': [0.05,0.1,0.5,1],\n",
    "                        'reg_lambda': [0.01,0.1,1],\n",
    "                        'reg_alpha': [0,0.1,0.5,1],\n",
    "                        'subsample': [0.6,0.8,1],\n",
    "                        'colsample_bytree': [0.6,0.8,1]\n",
    "}\n",
    "search = RandomizedSearchCV(xgb,param_distributions,cv=5,random_state=0,verbose=2,n_jobs=-1)\n",
    "\n",
    "search.fit(X_train,y_train)\n",
    "search.best_params_"
   ]
  },
  {
   "cell_type": "code",
   "execution_count": 32,
   "metadata": {},
   "outputs": [
    {
     "data": {
      "text/plain": [
       "0.995946156644665"
      ]
     },
     "execution_count": 32,
     "metadata": {},
     "output_type": "execute_result"
    }
   ],
   "source": [
    "xgb = search.best_estimator_\n",
    "xgb.score(X_test,y_test)"
   ]
  },
  {
   "cell_type": "code",
   "execution_count": 33,
   "metadata": {},
   "outputs": [],
   "source": [
    "with open('xgb', 'wb') as file:\n",
    "    pickle.dump(xgb,file)"
   ]
  },
  {
   "cell_type": "code",
   "execution_count": 34,
   "metadata": {},
   "outputs": [],
   "source": [
    "# start = time()\n",
    "# xgb = xgb.XGBClassifier(subsample=0.6,reg_lambda=0.1,reg_alpha=0.5,max_depth=20,\n",
    "#                         learning_rate=0.01,gamma=0.1,colsample_bytree=0.6)\n",
    "# xgb.fit(X_train,y_train)\n",
    "# end = time()\n",
    "\n",
    "# xgb.score(X_test,y_test)\n",
    "\n",
    "# xgb_time = (end - start)//60\n",
    "# print(xgb_time)"
   ]
  },
  {
   "cell_type": "markdown",
   "metadata": {},
   "source": [
    "### Model Evaluation"
   ]
  },
  {
   "cell_type": "code",
   "execution_count": 45,
   "metadata": {},
   "outputs": [],
   "source": [
    "from sklearn.metrics import confusion_matrix\n",
    "from sklearn.metrics import ConfusionMatrixDisplay\n",
    "from sklearn.metrics import plot_confusion_matrix\n",
    "from sklearn.metrics import classification_report"
   ]
  },
  {
   "cell_type": "markdown",
   "metadata": {},
   "source": [
    "### 1. Logistic Regression"
   ]
  },
  {
   "cell_type": "code",
   "execution_count": 54,
   "metadata": {},
   "outputs": [
    {
     "name": "stdout",
     "output_type": "stream",
     "text": [
      "              precision    recall  f1-score   support\n",
      "\n",
      "           0       0.89      0.96      0.92     13333\n",
      "           1       0.69      0.55      0.61      3946\n",
      "           2       0.84      0.77      0.80      1962\n",
      "\n",
      "    accuracy                           0.85     19241\n",
      "   macro avg       0.81      0.76      0.78     19241\n",
      "weighted avg       0.85      0.85      0.85     19241\n",
      "\n"
     ]
    },
    {
     "data": {
      "text/plain": [
       "<sklearn.metrics._plot.confusion_matrix.ConfusionMatrixDisplay at 0x14a150e27c8>"
      ]
     },
     "execution_count": 54,
     "metadata": {},
     "output_type": "execute_result"
    },
    {
     "data": {
      "image/png": "[encoded data removed]",
      "text/plain": [
       "<Figure size 432x288 with 2 Axes>"
      ]
     },
     "metadata": {
      "needs_background": "light"
     },
     "output_type": "display_data"
    }
   ],
   "source": [
    "# classification report\n",
    "y_pred_lr = lr.predict(X_test_scaled)\n",
    "print(classification_report(y_test, y_pred_lr))\n",
    "\n",
    "# plot the confusion matrix\n",
    "plot_confusion_matrix(lr,X_test_scaled,y_test)"
   ]
  },
  {
   "cell_type": "markdown",
   "metadata": {},
   "source": [
    "### 2. K-Nearest Neighbors"
   ]
  },
  {
   "cell_type": "code",
   "execution_count": 55,
   "metadata": {},
   "outputs": [
    {
     "name": "stdout",
     "output_type": "stream",
     "text": [
      "              precision    recall  f1-score   support\n",
      "\n",
      "           0       1.00      1.00      1.00     13333\n",
      "           1       1.00      1.00      1.00      3946\n",
      "           2       1.00      1.00      1.00      1962\n",
      "\n",
      "    accuracy                           1.00     19241\n",
      "   macro avg       1.00      1.00      1.00     19241\n",
      "weighted avg       1.00      1.00      1.00     19241\n",
      "\n"
     ]
    },
    {
     "data": {
      "text/plain": [
       "<sklearn.metrics._plot.confusion_matrix.ConfusionMatrixDisplay at 0x14a150e2288>"
      ]
     },
     "execution_count": 55,
     "metadata": {},
     "output_type": "execute_result"
    },
    {
     "data": {
      "image/png": "[encoded data removed]",
      "text/plain": [
       "<Figure size 432x288 with 2 Axes>"
      ]
     },
     "metadata": {
      "needs_background": "light"
     },
     "output_type": "display_data"
    }
   ],
   "source": [
    "# classification report\n",
    "y_pred_knn = knn.predict(X_test_scaled)\n",
    "print(classification_report(y_test, y_pred_knn))\n",
    "\n",
    "# plot the confusion matrix\n",
    "plot_confusion_matrix(knn,X_test_scaled,y_test)"
   ]
  },
  {
   "cell_type": "markdown",
   "metadata": {},
   "source": [
    "### 3. Support Vector Machine (SVM)"
   ]
  },
  {
   "cell_type": "code",
   "execution_count": 57,
   "metadata": {},
   "outputs": [
    {
     "name": "stdout",
     "output_type": "stream",
     "text": [
      "              precision    recall  f1-score   support\n",
      "\n",
      "           0       0.95      1.00      0.97     13333\n",
      "           1       0.98      0.83      0.90      3946\n",
      "           2       1.00      0.98      0.99      1962\n",
      "\n",
      "    accuracy                           0.96     19241\n",
      "   macro avg       0.98      0.93      0.95     19241\n",
      "weighted avg       0.96      0.96      0.96     19241\n",
      "\n"
     ]
    },
    {
     "data": {
      "text/plain": [
       "<sklearn.metrics._plot.confusion_matrix.ConfusionMatrixDisplay at 0x14a13c2da48>"
      ]
     },
     "execution_count": 57,
     "metadata": {},
     "output_type": "execute_result"
    },
    {
     "data": {
      "image/png": "[encoded data removed]",
      "text/plain": [
       "<Figure size 432x288 with 2 Axes>"
      ]
     },
     "metadata": {
      "needs_background": "light"
     },
     "output_type": "display_data"
    }
   ],
   "source": [
    "# classification report\n",
    "y_pred_svc = svc.predict(X_test_scaled)\n",
    "print(classification_report(y_test, y_pred_svc))\n",
    "\n",
    "# plot the confusion matrix\n",
    "plot_confusion_matrix(svc,X_test_scaled,y_test)"
   ]
  },
  {
   "cell_type": "markdown",
   "metadata": {},
   "source": [
    "### 4. Random Forest"
   ]
  },
  {
   "cell_type": "code",
   "execution_count": 58,
   "metadata": {},
   "outputs": [
    {
     "name": "stdout",
     "output_type": "stream",
     "text": [
      "              precision    recall  f1-score   support\n",
      "\n",
      "           0       1.00      1.00      1.00     13333\n",
      "           1       1.00      1.00      1.00      3946\n",
      "           2       1.00      1.00      1.00      1962\n",
      "\n",
      "    accuracy                           1.00     19241\n",
      "   macro avg       1.00      1.00      1.00     19241\n",
      "weighted avg       1.00      1.00      1.00     19241\n",
      "\n"
     ]
    },
    {
     "data": {
      "text/plain": [
       "<sklearn.metrics._plot.confusion_matrix.ConfusionMatrixDisplay at 0x14a13bbee88>"
      ]
     },
     "execution_count": 58,
     "metadata": {},
     "output_type": "execute_result"
    },
    {
     "data": {
      "image/png": "[encoded data removed]",
      "text/plain": [
       "<Figure size 432x288 with 2 Axes>"
      ]
     },
     "metadata": {
      "needs_background": "light"
     },
     "output_type": "display_data"
    }
   ],
   "source": [
    "# classification report\n",
    "y_pred_rf = rf.predict(X_test)\n",
    "print(classification_report(y_test, y_pred_rf))\n",
    "\n",
    "# plot the confusion matrix\n",
    "plot_confusion_matrix(rf,X_test,y_test)"
   ]
  },
  {
   "cell_type": "markdown",
   "metadata": {},
   "source": [
    "### 5. Gaussian Naive Bayes"
   ]
  },
  {
   "cell_type": "code",
   "execution_count": 59,
   "metadata": {},
   "outputs": [
    {
     "name": "stdout",
     "output_type": "stream",
     "text": [
      "              precision    recall  f1-score   support\n",
      "\n",
      "           0       0.89      0.93      0.91     13333\n",
      "           1       0.56      0.47      0.51      3946\n",
      "           2       0.72      0.74      0.73      1962\n",
      "\n",
      "    accuracy                           0.81     19241\n",
      "   macro avg       0.72      0.71      0.72     19241\n",
      "weighted avg       0.80      0.81      0.81     19241\n",
      "\n"
     ]
    },
    {
     "data": {
      "text/plain": [
       "<sklearn.metrics._plot.confusion_matrix.ConfusionMatrixDisplay at 0x14a15212288>"
      ]
     },
     "execution_count": 59,
     "metadata": {},
     "output_type": "execute_result"
    },
    {
     "data": {
      "image/png": "[encoded data removed]",
      "text/plain": [
       "<Figure size 432x288 with 2 Axes>"
      ]
     },
     "metadata": {
      "needs_background": "light"
     },
     "output_type": "display_data"
    }
   ],
   "source": [
    "# classification report\n",
    "y_pred_nb = nb.predict(X_test)\n",
    "print(classification_report(y_test, y_pred_nb))\n",
    "\n",
    "# plot the confusion matrix\n",
    "plot_confusion_matrix(nb,X_test,y_test)"
   ]
  },
  {
   "cell_type": "markdown",
   "metadata": {},
   "source": [
    "### 6. Gradient Boost - XGBoost"
   ]
  },
  {
   "cell_type": "code",
   "execution_count": 60,
   "metadata": {},
   "outputs": [
    {
     "name": "stdout",
     "output_type": "stream",
     "text": [
      "              precision    recall  f1-score   support\n",
      "\n",
      "           0       0.99      1.00      1.00     13333\n",
      "           1       1.00      0.98      0.99      3946\n",
      "           2       1.00      1.00      1.00      1962\n",
      "\n",
      "    accuracy                           1.00     19241\n",
      "   macro avg       1.00      0.99      1.00     19241\n",
      "weighted avg       1.00      1.00      1.00     19241\n",
      "\n"
     ]
    },
    {
     "data": {
      "text/plain": [
       "<sklearn.metrics._plot.confusion_matrix.ConfusionMatrixDisplay at 0x14a152e4748>"
      ]
     },
     "execution_count": 60,
     "metadata": {},
     "output_type": "execute_result"
    },
    {
     "data": {
      "image/png": "[encoded data removed]",
      "text/plain": [
       "<Figure size 432x288 with 2 Axes>"
      ]
     },
     "metadata": {
      "needs_background": "light"
     },
     "output_type": "display_data"
    }
   ],
   "source": [
    "# classification report\n",
    "y_pred_xgb = xgb.predict(X_test)\n",
    "print(classification_report(y_test, y_pred_xgb))\n",
    "\n",
    "# plot the confusion matrix\n",
    "plot_confusion_matrix(xgb,X_test,y_test)"
   ]
  },
  {
   "cell_type": "code",
   "execution_count": null,
   "metadata": {},
   "outputs": [],
   "source": []
  }
 ],
 "metadata": {
  "kernelspec": {
   "display_name": "Python 3",
   "language": "python",
   "name": "python3"
  },
  "language_info": {
   "codemirror_mode": {
    "name": "ipython",
    "version": 3
   },
   "file_extension": ".py",
   "mimetype": "text/x-python",
   "name": "python",
   "nbconvert_exporter": "python",
   "pygments_lexer": "ipython3",
   "version": "3.7.6"
  }
 },
 "nbformat": 4,
 "nbformat_minor": 4
}
