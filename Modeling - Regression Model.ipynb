{
 "cells": [
  {
   "cell_type": "markdown",
   "metadata": {},
   "source": [
    "# Preprocessing and Training Data Development"
   ]
  },
  {
   "cell_type": "markdown",
   "metadata": {},
   "source": [
    "After developing a classification model for customer LTV prediction, we are interested in approaching the same question in a regression setting.\n",
    "\n",
    "We will use lifetimes - a Python package that has APIs for the models that we’re about to use, plus some usful utility functions."
   ]
  },
  {
   "cell_type": "code",
   "execution_count": 1,
   "metadata": {},
   "outputs": [],
   "source": [
    "import pandas as pd\n",
    "import numpy as np\n",
    "from datetime import datetime, timedelta, date\n",
    "import matplotlib.pyplot as plt"
   ]
  },
  {
   "cell_type": "code",
   "execution_count": 2,
   "metadata": {
    "scrolled": true
   },
   "outputs": [
    {
     "data": {
      "text/html": [
       "<div>\n",
       "<style scoped>\n",
       "    .dataframe tbody tr th:only-of-type {\n",
       "        vertical-align: middle;\n",
       "    }\n",
       "\n",
       "    .dataframe tbody tr th {\n",
       "        vertical-align: top;\n",
       "    }\n",
       "\n",
       "    .dataframe thead th {\n",
       "        text-align: right;\n",
       "    }\n",
       "</style>\n",
       "<table border=\"1\" class=\"dataframe\">\n",
       "  <thead>\n",
       "    <tr style=\"text-align: right;\">\n",
       "      <th></th>\n",
       "      <th>Invoice</th>\n",
       "      <th>StockCode</th>\n",
       "      <th>Description</th>\n",
       "      <th>Quantity</th>\n",
       "      <th>InvoiceDate</th>\n",
       "      <th>Price</th>\n",
       "      <th>CustomerID</th>\n",
       "      <th>Country</th>\n",
       "      <th>ItemTotal</th>\n",
       "    </tr>\n",
       "  </thead>\n",
       "  <tbody>\n",
       "    <tr>\n",
       "      <th>0</th>\n",
       "      <td>489434</td>\n",
       "      <td>85048</td>\n",
       "      <td>15CM CHRISTMAS GLASS BALL 20 LIGHTS</td>\n",
       "      <td>12</td>\n",
       "      <td>2009-12-01 07:45:00</td>\n",
       "      <td>6.95</td>\n",
       "      <td>13085</td>\n",
       "      <td>United Kingdom</td>\n",
       "      <td>83.4</td>\n",
       "    </tr>\n",
       "    <tr>\n",
       "      <th>1</th>\n",
       "      <td>489434</td>\n",
       "      <td>79323P</td>\n",
       "      <td>PINK CHERRY LIGHTS</td>\n",
       "      <td>12</td>\n",
       "      <td>2009-12-01 07:45:00</td>\n",
       "      <td>6.75</td>\n",
       "      <td>13085</td>\n",
       "      <td>United Kingdom</td>\n",
       "      <td>81.0</td>\n",
       "    </tr>\n",
       "    <tr>\n",
       "      <th>2</th>\n",
       "      <td>489434</td>\n",
       "      <td>79323W</td>\n",
       "      <td>WHITE CHERRY LIGHTS</td>\n",
       "      <td>12</td>\n",
       "      <td>2009-12-01 07:45:00</td>\n",
       "      <td>6.75</td>\n",
       "      <td>13085</td>\n",
       "      <td>United Kingdom</td>\n",
       "      <td>81.0</td>\n",
       "    </tr>\n",
       "    <tr>\n",
       "      <th>3</th>\n",
       "      <td>489434</td>\n",
       "      <td>22041</td>\n",
       "      <td>RECORD FRAME 7\" SINGLE SIZE</td>\n",
       "      <td>48</td>\n",
       "      <td>2009-12-01 07:45:00</td>\n",
       "      <td>2.10</td>\n",
       "      <td>13085</td>\n",
       "      <td>United Kingdom</td>\n",
       "      <td>100.8</td>\n",
       "    </tr>\n",
       "    <tr>\n",
       "      <th>4</th>\n",
       "      <td>489434</td>\n",
       "      <td>21232</td>\n",
       "      <td>STRAWBERRY CERAMIC TRINKET BOX</td>\n",
       "      <td>24</td>\n",
       "      <td>2009-12-01 07:45:00</td>\n",
       "      <td>1.25</td>\n",
       "      <td>13085</td>\n",
       "      <td>United Kingdom</td>\n",
       "      <td>30.0</td>\n",
       "    </tr>\n",
       "  </tbody>\n",
       "</table>\n",
       "</div>"
      ],
      "text/plain": [
       "  Invoice StockCode                          Description  Quantity  \\\n",
       "0  489434     85048  15CM CHRISTMAS GLASS BALL 20 LIGHTS        12   \n",
       "1  489434    79323P                   PINK CHERRY LIGHTS        12   \n",
       "2  489434    79323W                  WHITE CHERRY LIGHTS        12   \n",
       "3  489434     22041         RECORD FRAME 7\" SINGLE SIZE         48   \n",
       "4  489434     21232       STRAWBERRY CERAMIC TRINKET BOX        24   \n",
       "\n",
       "          InvoiceDate  Price  CustomerID         Country  ItemTotal  \n",
       "0 2009-12-01 07:45:00   6.95       13085  United Kingdom       83.4  \n",
       "1 2009-12-01 07:45:00   6.75       13085  United Kingdom       81.0  \n",
       "2 2009-12-01 07:45:00   6.75       13085  United Kingdom       81.0  \n",
       "3 2009-12-01 07:45:00   2.10       13085  United Kingdom      100.8  \n",
       "4 2009-12-01 07:45:00   1.25       13085  United Kingdom       30.0  "
      ]
     },
     "execution_count": 2,
     "metadata": {},
     "output_type": "execute_result"
    }
   ],
   "source": [
    "df = pd.read_csv('data_wrangling.csv', parse_dates=['InvoiceDate'])\n",
    "df.drop('Unnamed: 0', axis=1, inplace=True)\n",
    "df.head()"
   ]
  },
  {
   "cell_type": "code",
   "execution_count": 3,
   "metadata": {},
   "outputs": [
    {
     "data": {
      "text/html": [
       "<div>\n",
       "<style scoped>\n",
       "    .dataframe tbody tr th:only-of-type {\n",
       "        vertical-align: middle;\n",
       "    }\n",
       "\n",
       "    .dataframe tbody tr th {\n",
       "        vertical-align: top;\n",
       "    }\n",
       "\n",
       "    .dataframe thead th {\n",
       "        text-align: right;\n",
       "    }\n",
       "</style>\n",
       "<table border=\"1\" class=\"dataframe\">\n",
       "  <thead>\n",
       "    <tr style=\"text-align: right;\">\n",
       "      <th></th>\n",
       "      <th>Invoice</th>\n",
       "      <th>InvoiceDate</th>\n",
       "      <th>CustomerID</th>\n",
       "      <th>OrderTotal</th>\n",
       "    </tr>\n",
       "  </thead>\n",
       "  <tbody>\n",
       "    <tr>\n",
       "      <th>0</th>\n",
       "      <td>489434</td>\n",
       "      <td>2009-12-01 07:45:00</td>\n",
       "      <td>13085</td>\n",
       "      <td>505.30</td>\n",
       "    </tr>\n",
       "    <tr>\n",
       "      <th>1</th>\n",
       "      <td>489435</td>\n",
       "      <td>2009-12-01 07:46:00</td>\n",
       "      <td>13085</td>\n",
       "      <td>145.80</td>\n",
       "    </tr>\n",
       "    <tr>\n",
       "      <th>2</th>\n",
       "      <td>489436</td>\n",
       "      <td>2009-12-01 09:06:00</td>\n",
       "      <td>13078</td>\n",
       "      <td>630.33</td>\n",
       "    </tr>\n",
       "    <tr>\n",
       "      <th>3</th>\n",
       "      <td>489437</td>\n",
       "      <td>2009-12-01 09:08:00</td>\n",
       "      <td>15362</td>\n",
       "      <td>310.75</td>\n",
       "    </tr>\n",
       "    <tr>\n",
       "      <th>4</th>\n",
       "      <td>489438</td>\n",
       "      <td>2009-12-01 09:24:00</td>\n",
       "      <td>18102</td>\n",
       "      <td>2286.24</td>\n",
       "    </tr>\n",
       "  </tbody>\n",
       "</table>\n",
       "</div>"
      ],
      "text/plain": [
       "  Invoice         InvoiceDate  CustomerID  OrderTotal\n",
       "0  489434 2009-12-01 07:45:00       13085      505.30\n",
       "1  489435 2009-12-01 07:46:00       13085      145.80\n",
       "2  489436 2009-12-01 09:06:00       13078      630.33\n",
       "3  489437 2009-12-01 09:08:00       15362      310.75\n",
       "4  489438 2009-12-01 09:24:00       18102     2286.24"
      ]
     },
     "execution_count": 3,
     "metadata": {},
     "output_type": "execute_result"
    }
   ],
   "source": [
    "# calculate order total for each order\n",
    "df = df.groupby(['Invoice','InvoiceDate','CustomerID']).ItemTotal.sum().rename('OrderTotal').reset_index()\n",
    "df.head()"
   ]
  },
  {
   "cell_type": "code",
   "execution_count": 4,
   "metadata": {},
   "outputs": [
    {
     "data": {
      "text/html": [
       "<div>\n",
       "<style scoped>\n",
       "    .dataframe tbody tr th:only-of-type {\n",
       "        vertical-align: middle;\n",
       "    }\n",
       "\n",
       "    .dataframe tbody tr th {\n",
       "        vertical-align: top;\n",
       "    }\n",
       "\n",
       "    .dataframe thead th {\n",
       "        text-align: right;\n",
       "    }\n",
       "</style>\n",
       "<table border=\"1\" class=\"dataframe\">\n",
       "  <thead>\n",
       "    <tr style=\"text-align: right;\">\n",
       "      <th></th>\n",
       "      <th>Invoice</th>\n",
       "      <th>InvoiceDate</th>\n",
       "      <th>CustomerID</th>\n",
       "      <th>OrderTotal</th>\n",
       "    </tr>\n",
       "  </thead>\n",
       "  <tbody>\n",
       "    <tr>\n",
       "      <th>44697</th>\n",
       "      <td>C581484</td>\n",
       "      <td>2011-12-09 09:27:00</td>\n",
       "      <td>16446</td>\n",
       "      <td>-168469.60</td>\n",
       "    </tr>\n",
       "    <tr>\n",
       "      <th>41530</th>\n",
       "      <td>C541433</td>\n",
       "      <td>2011-01-18 10:17:00</td>\n",
       "      <td>12346</td>\n",
       "      <td>-77183.60</td>\n",
       "    </tr>\n",
       "    <tr>\n",
       "      <th>42790</th>\n",
       "      <td>C556445</td>\n",
       "      <td>2011-06-10 15:31:00</td>\n",
       "      <td>15098</td>\n",
       "      <td>-38970.00</td>\n",
       "    </tr>\n",
       "    <tr>\n",
       "      <th>39057</th>\n",
       "      <td>C512770</td>\n",
       "      <td>2010-06-17 16:52:00</td>\n",
       "      <td>17399</td>\n",
       "      <td>-25111.09</td>\n",
       "    </tr>\n",
       "    <tr>\n",
       "      <th>42308</th>\n",
       "      <td>C550456</td>\n",
       "      <td>2011-04-18 13:08:00</td>\n",
       "      <td>15749</td>\n",
       "      <td>-22998.40</td>\n",
       "    </tr>\n",
       "  </tbody>\n",
       "</table>\n",
       "</div>"
      ],
      "text/plain": [
       "       Invoice         InvoiceDate  CustomerID  OrderTotal\n",
       "44697  C581484 2011-12-09 09:27:00       16446  -168469.60\n",
       "41530  C541433 2011-01-18 10:17:00       12346   -77183.60\n",
       "42790  C556445 2011-06-10 15:31:00       15098   -38970.00\n",
       "39057  C512770 2010-06-17 16:52:00       17399   -25111.09\n",
       "42308  C550456 2011-04-18 13:08:00       15749   -22998.40"
      ]
     },
     "execution_count": 4,
     "metadata": {},
     "output_type": "execute_result"
    }
   ],
   "source": [
    "df.sort_values('OrderTotal').head()"
   ]
  },
  {
   "cell_type": "markdown",
   "metadata": {},
   "source": [
    "We see that there are many returns in the dataset with negative order totals. Ideally, we'd match returns to their original purchases and adjust the monetary values for the original transaction date. Since we do not have the information required to do this, we will simply include these values for now and proceed to RFM calculation."
   ]
  },
  {
   "cell_type": "code",
   "execution_count": 5,
   "metadata": {},
   "outputs": [
    {
     "data": {
      "text/plain": [
       "738"
      ]
     },
     "execution_count": 5,
     "metadata": {},
     "output_type": "execute_result"
    }
   ],
   "source": [
    "# calculate the number of days data included in the dataset\n",
    "total_days = (df['InvoiceDate'].max() - df['InvoiceDate'].min()).days\n",
    "total_days"
   ]
  },
  {
   "cell_type": "markdown",
   "metadata": {},
   "source": [
    "We are still going to use RFM as the features, but this time using a built-in function from *lifetimes* package to transform the dataset into the features we need:\n",
    "- *frequency* - It’s the count of time periods the customer had a purchase in. So if using days as units, then it’s the count of days the customer had a purchase on.\n",
    "- *T* - This is equal to the duration between a customer’s first purchase and the end of the period under study.\n",
    "- *recency* - This is equal to the duration between a customer’s first purchase and their latest purchase. (Thus if they have made only 1 purchase, the recency is 0.)\n",
    "- *monetary_value* - represents the average value of a given customer’s purchases. This is equal to the sum of all a customer’s purchases divided by the total number of purchases."
   ]
  },
  {
   "cell_type": "code",
   "execution_count": 6,
   "metadata": {},
   "outputs": [
    {
     "data": {
      "text/html": [
       "<div>\n",
       "<style scoped>\n",
       "    .dataframe tbody tr th:only-of-type {\n",
       "        vertical-align: middle;\n",
       "    }\n",
       "\n",
       "    .dataframe tbody tr th {\n",
       "        vertical-align: top;\n",
       "    }\n",
       "\n",
       "    .dataframe thead th {\n",
       "        text-align: right;\n",
       "    }\n",
       "</style>\n",
       "<table border=\"1\" class=\"dataframe\">\n",
       "  <thead>\n",
       "    <tr style=\"text-align: right;\">\n",
       "      <th></th>\n",
       "      <th>frequency</th>\n",
       "      <th>recency</th>\n",
       "      <th>T</th>\n",
       "      <th>monetary_value</th>\n",
       "    </tr>\n",
       "    <tr>\n",
       "      <th>CustomerID</th>\n",
       "      <th></th>\n",
       "      <th></th>\n",
       "      <th></th>\n",
       "      <th></th>\n",
       "    </tr>\n",
       "  </thead>\n",
       "  <tbody>\n",
       "    <tr>\n",
       "      <th>12346</th>\n",
       "      <td>5.0</td>\n",
       "      <td>357.0</td>\n",
       "      <td>682.0</td>\n",
       "      <td>-29.448000</td>\n",
       "    </tr>\n",
       "    <tr>\n",
       "      <th>12347</th>\n",
       "      <td>7.0</td>\n",
       "      <td>402.0</td>\n",
       "      <td>404.0</td>\n",
       "      <td>615.714286</td>\n",
       "    </tr>\n",
       "    <tr>\n",
       "      <th>12348</th>\n",
       "      <td>4.0</td>\n",
       "      <td>363.0</td>\n",
       "      <td>438.0</td>\n",
       "      <td>359.310000</td>\n",
       "    </tr>\n",
       "    <tr>\n",
       "      <th>12349</th>\n",
       "      <td>3.0</td>\n",
       "      <td>717.0</td>\n",
       "      <td>735.0</td>\n",
       "      <td>1226.230000</td>\n",
       "    </tr>\n",
       "    <tr>\n",
       "      <th>12350</th>\n",
       "      <td>0.0</td>\n",
       "      <td>0.0</td>\n",
       "      <td>310.0</td>\n",
       "      <td>0.000000</td>\n",
       "    </tr>\n",
       "  </tbody>\n",
       "</table>\n",
       "</div>"
      ],
      "text/plain": [
       "            frequency  recency      T  monetary_value\n",
       "CustomerID                                           \n",
       "12346             5.0    357.0  682.0      -29.448000\n",
       "12347             7.0    402.0  404.0      615.714286\n",
       "12348             4.0    363.0  438.0      359.310000\n",
       "12349             3.0    717.0  735.0     1226.230000\n",
       "12350             0.0      0.0  310.0        0.000000"
      ]
     },
     "execution_count": 6,
     "metadata": {},
     "output_type": "execute_result"
    }
   ],
   "source": [
    "from lifetimes.utils import summary_data_from_transaction_data\n",
    "\n",
    "# get the last date of the observation\n",
    "current_date = df['InvoiceDate'].max()\n",
    "\n",
    "# transform transaction data into summary data\n",
    "summary = summary_data_from_transaction_data(df,\n",
    "                                            customer_id_col='CustomerID',\n",
    "                                            datetime_col='InvoiceDate',\n",
    "                                            observation_period_end=current_date,\n",
    "                                            freq='D', #use days as units\n",
    "                                            monetary_value_col='OrderTotal')\n",
    "\n",
    "summary.head()"
   ]
  },
  {
   "cell_type": "code",
   "execution_count": 7,
   "metadata": {},
   "outputs": [
    {
     "data": {
      "text/html": [
       "<div>\n",
       "<style scoped>\n",
       "    .dataframe tbody tr th:only-of-type {\n",
       "        vertical-align: middle;\n",
       "    }\n",
       "\n",
       "    .dataframe tbody tr th {\n",
       "        vertical-align: top;\n",
       "    }\n",
       "\n",
       "    .dataframe thead th {\n",
       "        text-align: right;\n",
       "    }\n",
       "</style>\n",
       "<table border=\"1\" class=\"dataframe\">\n",
       "  <thead>\n",
       "    <tr style=\"text-align: right;\">\n",
       "      <th></th>\n",
       "      <th>frequency_cal</th>\n",
       "      <th>recency_cal</th>\n",
       "      <th>T_cal</th>\n",
       "      <th>monetary_value_cal</th>\n",
       "      <th>frequency_holdout</th>\n",
       "      <th>monetary_value_holdout</th>\n",
       "      <th>duration_holdout</th>\n",
       "    </tr>\n",
       "    <tr>\n",
       "      <th>CustomerID</th>\n",
       "      <th></th>\n",
       "      <th></th>\n",
       "      <th></th>\n",
       "      <th></th>\n",
       "      <th></th>\n",
       "      <th></th>\n",
       "      <th></th>\n",
       "    </tr>\n",
       "  </thead>\n",
       "  <tbody>\n",
       "    <tr>\n",
       "      <th>12346</th>\n",
       "      <td>4.0</td>\n",
       "      <td>251.0</td>\n",
       "      <td>317.0</td>\n",
       "      <td>-36.81</td>\n",
       "      <td>1.0</td>\n",
       "      <td>0.000000</td>\n",
       "      <td>365.0</td>\n",
       "    </tr>\n",
       "    <tr>\n",
       "      <th>12347</th>\n",
       "      <td>1.0</td>\n",
       "      <td>37.0</td>\n",
       "      <td>39.0</td>\n",
       "      <td>711.79</td>\n",
       "      <td>6.0</td>\n",
       "      <td>599.701667</td>\n",
       "      <td>365.0</td>\n",
       "    </tr>\n",
       "    <tr>\n",
       "      <th>12348</th>\n",
       "      <td>0.0</td>\n",
       "      <td>0.0</td>\n",
       "      <td>73.0</td>\n",
       "      <td>0.00</td>\n",
       "      <td>4.0</td>\n",
       "      <td>359.310000</td>\n",
       "      <td>365.0</td>\n",
       "    </tr>\n",
       "    <tr>\n",
       "      <th>12349</th>\n",
       "      <td>2.0</td>\n",
       "      <td>328.0</td>\n",
       "      <td>370.0</td>\n",
       "      <td>1110.57</td>\n",
       "      <td>1.0</td>\n",
       "      <td>1457.550000</td>\n",
       "      <td>365.0</td>\n",
       "    </tr>\n",
       "    <tr>\n",
       "      <th>12351</th>\n",
       "      <td>0.0</td>\n",
       "      <td>0.0</td>\n",
       "      <td>10.0</td>\n",
       "      <td>0.00</td>\n",
       "      <td>0.0</td>\n",
       "      <td>0.000000</td>\n",
       "      <td>365.0</td>\n",
       "    </tr>\n",
       "  </tbody>\n",
       "</table>\n",
       "</div>"
      ],
      "text/plain": [
       "            frequency_cal  recency_cal  T_cal  monetary_value_cal  \\\n",
       "CustomerID                                                          \n",
       "12346                 4.0        251.0  317.0              -36.81   \n",
       "12347                 1.0         37.0   39.0              711.79   \n",
       "12348                 0.0          0.0   73.0                0.00   \n",
       "12349                 2.0        328.0  370.0             1110.57   \n",
       "12351                 0.0          0.0   10.0                0.00   \n",
       "\n",
       "            frequency_holdout  monetary_value_holdout  duration_holdout  \n",
       "CustomerID                                                               \n",
       "12346                     1.0                0.000000             365.0  \n",
       "12347                     6.0              599.701667             365.0  \n",
       "12348                     4.0              359.310000             365.0  \n",
       "12349                     1.0             1457.550000             365.0  \n",
       "12351                     0.0                0.000000             365.0  "
      ]
     },
     "execution_count": 7,
     "metadata": {},
     "output_type": "execute_result"
    }
   ],
   "source": [
    "from lifetimes.utils import calibration_and_holdout_data\n",
    "\n",
    "# we will predict the LTV for one year\n",
    "holdout_days = 365 \n",
    "calibration_end_date = current_date - timedelta(days=holdout_days)\n",
    "\n",
    "# partition the dataset into a calibration period dataset and a holdout dataset\n",
    "summary_cal_holdout = calibration_and_holdout_data(df,\n",
    "                                                   customer_id_col='CustomerID',\n",
    "                                                   datetime_col='InvoiceDate',\n",
    "                                                   calibration_period_end=calibration_end_date,\n",
    "                                                   observation_period_end=current_date,\n",
    "                                                   freq='D', #use days as units\n",
    "                                                   monetary_value_col='OrderTotal')\n",
    "\n",
    "summary_cal_holdout.head()"
   ]
  },
  {
   "cell_type": "code",
   "execution_count": 8,
   "metadata": {},
   "outputs": [
    {
     "data": {
      "text/html": [
       "<div>\n",
       "<style scoped>\n",
       "    .dataframe tbody tr th:only-of-type {\n",
       "        vertical-align: middle;\n",
       "    }\n",
       "\n",
       "    .dataframe tbody tr th {\n",
       "        vertical-align: top;\n",
       "    }\n",
       "\n",
       "    .dataframe thead th {\n",
       "        text-align: right;\n",
       "    }\n",
       "</style>\n",
       "<table border=\"1\" class=\"dataframe\">\n",
       "  <thead>\n",
       "    <tr style=\"text-align: right;\">\n",
       "      <th></th>\n",
       "      <th>CustomerID</th>\n",
       "      <th>clv_holdout</th>\n",
       "    </tr>\n",
       "  </thead>\n",
       "  <tbody>\n",
       "    <tr>\n",
       "      <th>0</th>\n",
       "      <td>12346</td>\n",
       "      <td>0.00</td>\n",
       "    </tr>\n",
       "    <tr>\n",
       "      <th>1</th>\n",
       "      <td>12347</td>\n",
       "      <td>3598.21</td>\n",
       "    </tr>\n",
       "    <tr>\n",
       "      <th>2</th>\n",
       "      <td>12348</td>\n",
       "      <td>1437.24</td>\n",
       "    </tr>\n",
       "    <tr>\n",
       "      <th>3</th>\n",
       "      <td>12349</td>\n",
       "      <td>1457.55</td>\n",
       "    </tr>\n",
       "    <tr>\n",
       "      <th>4</th>\n",
       "      <td>12350</td>\n",
       "      <td>294.40</td>\n",
       "    </tr>\n",
       "  </tbody>\n",
       "</table>\n",
       "</div>"
      ],
      "text/plain": [
       "   CustomerID  clv_holdout\n",
       "0       12346         0.00\n",
       "1       12347      3598.21\n",
       "2       12348      1437.24\n",
       "3       12349      1457.55\n",
       "4       12350       294.40"
      ]
     },
     "execution_count": 8,
     "metadata": {},
     "output_type": "execute_result"
    }
   ],
   "source": [
    "# calculate the actual LTV in the observation period for each customer\n",
    "clv_actual = df[df['InvoiceDate']>calibration_end_date].groupby('CustomerID').OrderTotal.sum().rename('clv_holdout').reset_index()\n",
    "clv_actual.head()"
   ]
  },
  {
   "cell_type": "code",
   "execution_count": 9,
   "metadata": {},
   "outputs": [],
   "source": [
    "# remove customers with no repeats\n",
    "returning_summary = summary[summary['frequency']>0]\n",
    "\n",
    "# remove customers with no repeats in calibration period\n",
    "returning_cal_holdout = summary_cal_holdout[summary_cal_holdout['frequency_cal']>0]"
   ]
  },
  {
   "cell_type": "markdown",
   "metadata": {},
   "source": [
    "We will exclude customers with monetary value £0 or lower from our analysis."
   ]
  },
  {
   "cell_type": "code",
   "execution_count": 10,
   "metadata": {},
   "outputs": [
    {
     "name": "stderr",
     "output_type": "stream",
     "text": [
      "C:\\Users\\Billy\\anaconda3\\lib\\site-packages\\pandas\\core\\computation\\expressions.py:178: UserWarning: evaluating in Python space because the '*' operator is not supported by numexpr for the bool dtype, use '&' instead\n",
      "  f\"evaluating in Python space because the {repr(op_str)} \"\n"
     ]
    }
   ],
   "source": [
    "# exclude customers with negative totals\n",
    "returning_summary = returning_summary[returning_summary['monetary_value']>0]\n",
    "\n",
    "# exclude customers with negative totals in calibration and holdout period\n",
    "returning_cal_holdout = returning_cal_holdout[(returning_cal_holdout['monetary_value_cal']>0) *\n",
    "                                              (returning_cal_holdout['monetary_value_holdout']>0)]"
   ]
  },
  {
   "cell_type": "markdown",
   "metadata": {},
   "source": [
    "# Modeling"
   ]
  },
  {
   "cell_type": "markdown",
   "metadata": {},
   "source": [
    "### BG/NBD Model\n",
    "\n",
    "We will first build a BG/NBD Model to predict the number of repeat purchases up to time for each customer\n",
    "\n",
    "BG/NBD stands for Beta Geometric/Negative Binomial Distribution. Its basic idea is that sales of each customer can be described as a combination of his/her probability to buy and to churn. it models the sales for a particular customer as a function of 2 distributions - Gamma for transactions and probability of churn as Beta."
   ]
  },
  {
   "cell_type": "code",
   "execution_count": 11,
   "metadata": {},
   "outputs": [
    {
     "name": "stdout",
     "output_type": "stream",
     "text": [
      "0 27.765032860577275\n"
     ]
    },
    {
     "name": "stderr",
     "output_type": "stream",
     "text": [
      "C:\\Users\\Billy\\anaconda3\\lib\\site-packages\\pandas\\core\\series.py:679: RuntimeWarning: invalid value encountered in sqrt\n",
      "  result = getattr(ufunc, method)(*inputs, **kwargs)\n"
     ]
    }
   ],
   "source": [
    "from lifetimes.fitters.beta_geo_fitter import BetaGeoFitter\n",
    "from sklearn.metrics import mean_squared_error\n",
    "\n",
    "frequency_actual = returning_cal_holdout['frequency_holdout']\n",
    "params = [0, 0.001, 0.1]\n",
    "best_mse = 10000\n",
    "best_param = None\n",
    "\n",
    "# hyperparameter tuning using mean squared error as the scoring method\n",
    "for penalizer_coef in params:\n",
    "    bgf = BetaGeoFitter(penalizer_coef=penalizer_coef)\n",
    "    bgf.fit(returning_cal_holdout['frequency_cal'], returning_cal_holdout['recency_cal'], returning_cal_holdout['T_cal'])\n",
    "    frequency_pred = bgf.predict(holdout_days,\n",
    "                                 returning_cal_holdout['frequency_cal'],\n",
    "                                 returning_cal_holdout['recency_cal'],\n",
    "                                 returning_cal_holdout['T_cal'])\n",
    "    mse = mean_squared_error(frequency_actual, frequency_pred)\n",
    "    if mse < best_mse:\n",
    "        best_mse = mse\n",
    "        best_param = penalizer_coef\n",
    "    else:\n",
    "        None\n",
    "\n",
    "print(best_param, best_mse)"
   ]
  },
  {
   "cell_type": "code",
   "execution_count": 12,
   "metadata": {},
   "outputs": [],
   "source": [
    "# train the model with the best parameter\n",
    "bgf = BetaGeoFitter(penalizer_coef=best_param)\n",
    "bgf.fit(returning_cal_holdout['frequency_cal'], returning_cal_holdout['recency_cal'], returning_cal_holdout['T_cal'])\n",
    "\n",
    "# predict the number of purchases for holdout days\n",
    "frequency_pred = bgf.predict(holdout_days,\n",
    "                             returning_cal_holdout['frequency_cal'],\n",
    "                             returning_cal_holdout['recency_cal'],\n",
    "                             returning_cal_holdout['T_cal'])"
   ]
  },
  {
   "cell_type": "markdown",
   "metadata": {},
   "source": [
    "#### BG/NBD Model Evaluation"
   ]
  },
  {
   "cell_type": "code",
   "execution_count": 13,
   "metadata": {
    "scrolled": true
   },
   "outputs": [
    {
     "data": {
      "image/png": "[encoded data removed]",
      "text/plain": [
       "<Figure size 432x432 with 1 Axes>"
      ]
     },
     "metadata": {
      "needs_background": "light"
     },
     "output_type": "display_data"
    }
   ],
   "source": [
    "# scatter plot to compare actual and predicted values\n",
    "plt.figure(figsize=(6,6))\n",
    "plt.scatter(frequency_pred,frequency_actual,alpha=0.5)\n",
    "plt.xlim(0,100)\n",
    "plt.ylim(0,100)\n",
    "plt.xlabel('Predicted')\n",
    "plt.ylabel('Actual')\n",
    "plt.title('Predicted vs Actual')\n",
    "plt.show()"
   ]
  },
  {
   "cell_type": "markdown",
   "metadata": {},
   "source": [
    "From the scatterplot output, we can see that the model’s predictions are decent."
   ]
  },
  {
   "cell_type": "code",
   "execution_count": 14,
   "metadata": {},
   "outputs": [
    {
     "data": {
      "text/plain": [
       "<matplotlib.axes._subplots.AxesSubplot at 0x1891a37fac8>"
      ]
     },
     "execution_count": 14,
     "metadata": {},
     "output_type": "execute_result"
    },
    {
     "data": {
      "image/png": "[encoded data removed]",
      "text/plain": [
       "<Figure size 432x288 with 1 Axes>"
      ]
     },
     "metadata": {
      "needs_background": "light"
     },
     "output_type": "display_data"
    }
   ],
   "source": [
    "from lifetimes.plotting import plot_calibration_purchases_vs_holdout_purchases\n",
    "\n",
    "# plot calibration purchases vs holdout\n",
    "plot_calibration_purchases_vs_holdout_purchases(bgf, returning_cal_holdout, n=30)"
   ]
  },
  {
   "cell_type": "markdown",
   "metadata": {},
   "source": [
    "As we can see, despite our model not fitting the actual purchases perfectly, it was able to capture trends and significant turning points."
   ]
  },
  {
   "cell_type": "code",
   "execution_count": 15,
   "metadata": {
    "scrolled": true
   },
   "outputs": [
    {
     "data": {
      "text/plain": [
       "<matplotlib.axes._subplots.AxesSubplot at 0x1891a3c38c8>"
      ]
     },
     "execution_count": 15,
     "metadata": {},
     "output_type": "execute_result"
    },
    {
     "data": {
      "image/png": "[encoded data removed]",
      "text/plain": [
       "<Figure size 432x288 with 2 Axes>"
      ]
     },
     "metadata": {
      "needs_background": "light"
     },
     "output_type": "display_data"
    }
   ],
   "source": [
    "from lifetimes.plotting import plot_frequency_recency_matrix\n",
    "\n",
    "# plot a heatmap of expected transactions in 1 day of time\n",
    "plot_frequency_recency_matrix(bgf)"
   ]
  },
  {
   "cell_type": "markdown",
   "metadata": {},
   "source": [
    "We can see that if a customer has bought 125 times, and their latest purchase was when they were 350 days old, then they are likely our best customers in the future (bottom-right)."
   ]
  },
  {
   "cell_type": "code",
   "execution_count": 16,
   "metadata": {},
   "outputs": [
    {
     "data": {
      "text/plain": [
       "<matplotlib.axes._subplots.AxesSubplot at 0x1891a4df9c8>"
      ]
     },
     "execution_count": 16,
     "metadata": {},
     "output_type": "execute_result"
    },
    {
     "data": {
      "image/png": "[encoded data removed]",
      "text/plain": [
       "<Figure size 432x288 with 1 Axes>"
      ]
     },
     "metadata": {
      "needs_background": "light"
     },
     "output_type": "display_data"
    }
   ],
   "source": [
    "from lifetimes.plotting import plot_history_alive\n",
    "\n",
    "# calculate historical probability of being alive for customer ID 12346\n",
    "id = 12346\n",
    "days_since_birth = 738\n",
    "sp_trans = df[df['CustomerID'] == id]\n",
    "plot_history_alive(bgf, days_since_birth, sp_trans, 'InvoiceDate')"
   ]
  },
  {
   "cell_type": "markdown",
   "metadata": {},
   "source": [
    "For each specific customer we can use above funtion to see the probability that he/she is 'alive' at certain point of time."
   ]
  },
  {
   "cell_type": "markdown",
   "metadata": {},
   "source": [
    "### Gamma-Gamma Model\n",
    "\n",
    "For the second step, we will use the Gamma-Gamma submodel to predict the spend per transaction in the future at the customer level. This model relies on an important assumption that there is no relationship between the monetary value and the purchase frequency.\n",
    "\n",
    "We'll check whether the Pearson correlation between the two features is close to 0 for the entire dataset and the calibration subset"
   ]
  },
  {
   "cell_type": "code",
   "execution_count": 17,
   "metadata": {},
   "outputs": [
    {
     "name": "stdout",
     "output_type": "stream",
     "text": [
      "                frequency  monetary_value\n",
      "frequency        1.000000        0.175808\n",
      "monetary_value   0.175808        1.000000\n",
      "\n",
      "\n",
      "                    frequency_cal  monetary_value_cal\n",
      "frequency_cal            1.000000            0.178972\n",
      "monetary_value_cal       0.178972            1.000000\n"
     ]
    }
   ],
   "source": [
    "# calculate the pearson correlation\n",
    "print(returning_summary[['frequency', 'monetary_value']].corr())\n",
    "print('\\n')\n",
    "print(returning_cal_holdout[['frequency_cal', 'monetary_value_cal']].corr())"
   ]
  },
  {
   "cell_type": "code",
   "execution_count": 18,
   "metadata": {},
   "outputs": [
    {
     "name": "stdout",
     "output_type": "stream",
     "text": [
      "0.001 54.241957834359205\n"
     ]
    }
   ],
   "source": [
    "from lifetimes.fitters.gamma_gamma_fitter import GammaGammaFitter\n",
    "\n",
    "monetary_actual = returning_cal_holdout['monetary_value_holdout']\n",
    "params = [0, 0.001, 0.005, 0.01]\n",
    "best_mse = 10000\n",
    "best_param = None\n",
    "\n",
    "# hyperparameter tuning using mean squared error as the scoring method\n",
    "for penalizer_coef in params:\n",
    "    ggf = GammaGammaFitter(penalizer_coef=penalizer_coef)\n",
    "    ggf.fit(returning_cal_holdout['frequency_cal'],returning_cal_holdout['monetary_value_cal'])\n",
    "    monetary_predicted = ggf.conditional_expected_average_profit(returning_cal_holdout['frequency_holdout'],\n",
    "                                                             returning_cal_holdout['monetary_value_holdout'])\n",
    "    mse = mean_squared_error(monetary_actual, monetary_predicted)\n",
    "    if mse < best_mse:\n",
    "        best_mse = mse\n",
    "        best_param = penalizer_coef\n",
    "    else:\n",
    "        None\n",
    "\n",
    "print(best_param, best_mse)"
   ]
  },
  {
   "cell_type": "code",
   "execution_count": 19,
   "metadata": {},
   "outputs": [],
   "source": [
    "# train the model with the best parameter\n",
    "ggf = GammaGammaFitter(penalizer_coef=best_param)\n",
    "ggf.fit(returning_cal_holdout['frequency_cal'],returning_cal_holdout['monetary_value_cal'])\n",
    "\n",
    "# predict the spend per transaction for the holdout days\n",
    "monetary_predicted = ggf.conditional_expected_average_profit(returning_cal_holdout['frequency_holdout'],\n",
    "                                                             returning_cal_holdout['monetary_value_holdout'])"
   ]
  },
  {
   "cell_type": "markdown",
   "metadata": {},
   "source": [
    "#### Gamma-Gamma Model Evaluation"
   ]
  },
  {
   "cell_type": "code",
   "execution_count": 20,
   "metadata": {
    "scrolled": true
   },
   "outputs": [
    {
     "data": {
      "text/plain": [
       "<matplotlib.legend.Legend at 0x1891a5c5dc8>"
      ]
     },
     "execution_count": 20,
     "metadata": {},
     "output_type": "execute_result"
    },
    {
     "data": {
      "image/png": "[encoded data removed]",
      "text/plain": [
       "<Figure size 1080x360 with 1 Axes>"
      ]
     },
     "metadata": {
      "needs_background": "light"
     },
     "output_type": "display_data"
    }
   ],
   "source": [
    "# histogram plot to compare predicted values and actual values\n",
    "bins = 40\n",
    "plt.figure(figsize=(15, 5))\n",
    "plt.hist(monetary_actual, bins, label='actual', histtype='bar', color='STEELBLUE', rwidth=0.99)\n",
    "plt.hist(monetary_predicted, bins, label='predict', histtype='step', color='ORANGE',  rwidth=0.99)\n",
    "plt.legend(loc='upper right')"
   ]
  },
  {
   "cell_type": "code",
   "execution_count": 21,
   "metadata": {},
   "outputs": [
    {
     "data": {
      "image/png": "[encoded data removed]",
      "text/plain": [
       "<Figure size 432x432 with 1 Axes>"
      ]
     },
     "metadata": {
      "needs_background": "light"
     },
     "output_type": "display_data"
    }
   ],
   "source": [
    "# scatter plot to compare predicted values and actual values\n",
    "plt.figure(figsize=(6,6))\n",
    "plt.scatter(monetary_predicted,monetary_actual,alpha=0.5)\n",
    "plt.xlabel('Predicted')\n",
    "plt.ylabel('Actual')\n",
    "plt.title('Predicted vs Actual')\n",
    "plt.show()"
   ]
  },
  {
   "cell_type": "markdown",
   "metadata": {},
   "source": [
    "### Customer LTV Prediction\n",
    "\n",
    "This function will take the prediction of expected purchase and combine it with the expected purchase value. Together with the discount rate, these components allow us to arrive at an estimate of how much a customer is worth in a given period of time."
   ]
  },
  {
   "cell_type": "code",
   "execution_count": 22,
   "metadata": {},
   "outputs": [],
   "source": [
    "# predict the customer LTV for holdout days\n",
    "clv_pred = ggf.customer_lifetime_value(bgf, #the model to use to predict the number of future transactions\n",
    "                                  returning_cal_holdout['frequency_cal'],\n",
    "                                  returning_cal_holdout['recency_cal'],\n",
    "                                  returning_cal_holdout['T_cal'],\n",
    "                                  returning_cal_holdout['monetary_value_cal'],\n",
    "                                  time=12, # months\n",
    "                                  discount_rate=0,\n",
    "                                  freq='D'\n",
    "                                 )"
   ]
  },
  {
   "cell_type": "code",
   "execution_count": 23,
   "metadata": {},
   "outputs": [],
   "source": [
    "# predict the discounted customer LTV for holdout days \n",
    "clv_pred_discount = ggf.customer_lifetime_value(bgf, #the model to use to predict the number of future transactions\n",
    "                                  returning_cal_holdout['frequency_cal'],\n",
    "                                  returning_cal_holdout['recency_cal'],\n",
    "                                  returning_cal_holdout['T_cal'],\n",
    "                                  returning_cal_holdout['monetary_value_cal'],\n",
    "                                  time=12, # months\n",
    "                                  discount_rate=0.0025, #0.03/12 monthly discount rate ~ 3% annually\n",
    "                                  freq='D'\n",
    "                                 )"
   ]
  },
  {
   "cell_type": "code",
   "execution_count": 24,
   "metadata": {},
   "outputs": [
    {
     "data": {
      "text/html": [
       "<div>\n",
       "<style scoped>\n",
       "    .dataframe tbody tr th:only-of-type {\n",
       "        vertical-align: middle;\n",
       "    }\n",
       "\n",
       "    .dataframe tbody tr th {\n",
       "        vertical-align: top;\n",
       "    }\n",
       "\n",
       "    .dataframe thead th {\n",
       "        text-align: right;\n",
       "    }\n",
       "</style>\n",
       "<table border=\"1\" class=\"dataframe\">\n",
       "  <thead>\n",
       "    <tr style=\"text-align: right;\">\n",
       "      <th></th>\n",
       "      <th>CustomerID</th>\n",
       "      <th>frequency_cal</th>\n",
       "      <th>recency_cal</th>\n",
       "      <th>T_cal</th>\n",
       "      <th>monetary_value_cal</th>\n",
       "      <th>frequency_holdout</th>\n",
       "      <th>monetary_value_holdout</th>\n",
       "      <th>duration_holdout</th>\n",
       "      <th>clv_pred</th>\n",
       "      <th>clv_pred_discount</th>\n",
       "      <th>clv_holdout</th>\n",
       "    </tr>\n",
       "  </thead>\n",
       "  <tbody>\n",
       "    <tr>\n",
       "      <th>0</th>\n",
       "      <td>12347</td>\n",
       "      <td>1.0</td>\n",
       "      <td>37.0</td>\n",
       "      <td>39.0</td>\n",
       "      <td>711.79</td>\n",
       "      <td>6.0</td>\n",
       "      <td>599.701667</td>\n",
       "      <td>365.0</td>\n",
       "      <td>6217.197180</td>\n",
       "      <td>6117.457099</td>\n",
       "      <td>3598.21</td>\n",
       "    </tr>\n",
       "    <tr>\n",
       "      <th>1</th>\n",
       "      <td>12349</td>\n",
       "      <td>2.0</td>\n",
       "      <td>328.0</td>\n",
       "      <td>370.0</td>\n",
       "      <td>1110.57</td>\n",
       "      <td>1.0</td>\n",
       "      <td>1457.550000</td>\n",
       "      <td>365.0</td>\n",
       "      <td>3441.054512</td>\n",
       "      <td>3385.807063</td>\n",
       "      <td>1457.55</td>\n",
       "    </tr>\n",
       "    <tr>\n",
       "      <th>2</th>\n",
       "      <td>12352</td>\n",
       "      <td>1.0</td>\n",
       "      <td>17.0</td>\n",
       "      <td>27.0</td>\n",
       "      <td>200.05</td>\n",
       "      <td>7.0</td>\n",
       "      <td>115.037273</td>\n",
       "      <td>365.0</td>\n",
       "      <td>2019.494643</td>\n",
       "      <td>1987.100752</td>\n",
       "      <td>1265.41</td>\n",
       "    </tr>\n",
       "    <tr>\n",
       "      <th>3</th>\n",
       "      <td>12356</td>\n",
       "      <td>2.0</td>\n",
       "      <td>44.0</td>\n",
       "      <td>59.0</td>\n",
       "      <td>1162.93</td>\n",
       "      <td>3.0</td>\n",
       "      <td>829.143333</td>\n",
       "      <td>365.0</td>\n",
       "      <td>11573.456552</td>\n",
       "      <td>11387.803223</td>\n",
       "      <td>2487.43</td>\n",
       "    </tr>\n",
       "    <tr>\n",
       "      <th>4</th>\n",
       "      <td>12358</td>\n",
       "      <td>2.0</td>\n",
       "      <td>356.0</td>\n",
       "      <td>366.0</td>\n",
       "      <td>544.59</td>\n",
       "      <td>2.0</td>\n",
       "      <td>464.030000</td>\n",
       "      <td>365.0</td>\n",
       "      <td>1712.071997</td>\n",
       "      <td>1684.584127</td>\n",
       "      <td>928.06</td>\n",
       "    </tr>\n",
       "  </tbody>\n",
       "</table>\n",
       "</div>"
      ],
      "text/plain": [
       "   CustomerID  frequency_cal  recency_cal  T_cal  monetary_value_cal  \\\n",
       "0       12347            1.0         37.0   39.0              711.79   \n",
       "1       12349            2.0        328.0  370.0             1110.57   \n",
       "2       12352            1.0         17.0   27.0              200.05   \n",
       "3       12356            2.0         44.0   59.0             1162.93   \n",
       "4       12358            2.0        356.0  366.0              544.59   \n",
       "\n",
       "   frequency_holdout  monetary_value_holdout  duration_holdout      clv_pred  \\\n",
       "0                6.0              599.701667             365.0   6217.197180   \n",
       "1                1.0             1457.550000             365.0   3441.054512   \n",
       "2                7.0              115.037273             365.0   2019.494643   \n",
       "3                3.0              829.143333             365.0  11573.456552   \n",
       "4                2.0              464.030000             365.0   1712.071997   \n",
       "\n",
       "   clv_pred_discount  clv_holdout  \n",
       "0        6117.457099      3598.21  \n",
       "1        3385.807063      1457.55  \n",
       "2        1987.100752      1265.41  \n",
       "3       11387.803223      2487.43  \n",
       "4        1684.584127       928.06  "
      ]
     },
     "execution_count": 24,
     "metadata": {},
     "output_type": "execute_result"
    }
   ],
   "source": [
    "# assign the clv values\n",
    "returning_cal_holdout['clv_pred'] = clv_pred\n",
    "returning_cal_holdout['clv_pred_discount'] = clv_pred_discount\n",
    "returning_cal_holdout = returning_cal_holdout.merge(clv_actual,how='left',on='CustomerID')\n",
    "\n",
    "returning_cal_holdout.head()"
   ]
  },
  {
   "cell_type": "markdown",
   "metadata": {},
   "source": [
    "#### Customer LTV Prediction Evaluation"
   ]
  },
  {
   "cell_type": "code",
   "execution_count": 25,
   "metadata": {},
   "outputs": [
    {
     "name": "stdout",
     "output_type": "stream",
     "text": [
      "MSE: 28856564.1007977\n"
     ]
    }
   ],
   "source": [
    "# calculate the mean sqared error\n",
    "clv_actual = returning_cal_holdout['clv_holdout']\n",
    "mse = mean_squared_error(clv_actual, clv_pred)\n",
    "print('MSE: {0}'.format(mse))"
   ]
  },
  {
   "cell_type": "code",
   "execution_count": 26,
   "metadata": {},
   "outputs": [
    {
     "data": {
      "text/plain": [
       "<matplotlib.legend.Legend at 0x1891a2891c8>"
      ]
     },
     "execution_count": 26,
     "metadata": {},
     "output_type": "execute_result"
    },
    {
     "data": {
      "image/png": "[encoded data removed]",
      "text/plain": [
       "<Figure size 1080x360 with 1 Axes>"
      ]
     },
     "metadata": {
      "needs_background": "light"
     },
     "output_type": "display_data"
    }
   ],
   "source": [
    "# histogram plot to compare predicted values and actual values\n",
    "bins = 100\n",
    "plt.figure(figsize=(15, 5))\n",
    "plt.hist(clv_actual, bins, label='actual', histtype='bar', color='STEELBLUE', rwidth=0.99)\n",
    "plt.hist(clv_pred, bins, label='predict', histtype='step', color='ORANGE',  rwidth=0.99)\n",
    "plt.xlim(0,40000)\n",
    "\n",
    "# place legend on chart\n",
    "plt.legend(loc='upper right')"
   ]
  },
  {
   "cell_type": "code",
   "execution_count": 27,
   "metadata": {},
   "outputs": [
    {
     "data": {
      "image/png": "[encoded data removed]",
      "text/plain": [
       "<Figure size 432x432 with 1 Axes>"
      ]
     },
     "metadata": {
      "needs_background": "light"
     },
     "output_type": "display_data"
    }
   ],
   "source": [
    "# scatter plot to compare predicted values and actual values\n",
    "plt.figure(figsize=(6,6))\n",
    "plt.scatter(clv_pred,clv_actual,alpha=0.5)\n",
    "plt.xlim(0,50000)\n",
    "plt.ylim(0,50000)\n",
    "plt.xlabel('Predicted')\n",
    "plt.ylabel('Actual')\n",
    "plt.title('Predicted vs Actual')\n",
    "plt.show()"
   ]
  },
  {
   "cell_type": "markdown",
   "metadata": {},
   "source": [
    "Now we can see the predicted top 10 most valued customers, and compare the prediction with the actual top 10 most valued customers:"
   ]
  },
  {
   "cell_type": "code",
   "execution_count": 28,
   "metadata": {},
   "outputs": [
    {
     "data": {
      "text/html": [
       "<div>\n",
       "<style scoped>\n",
       "    .dataframe tbody tr th:only-of-type {\n",
       "        vertical-align: middle;\n",
       "    }\n",
       "\n",
       "    .dataframe tbody tr th {\n",
       "        vertical-align: top;\n",
       "    }\n",
       "\n",
       "    .dataframe thead th {\n",
       "        text-align: right;\n",
       "    }\n",
       "</style>\n",
       "<table border=\"1\" class=\"dataframe\">\n",
       "  <thead>\n",
       "    <tr style=\"text-align: right;\">\n",
       "      <th></th>\n",
       "      <th>CustomerID</th>\n",
       "      <th>clv_holdout</th>\n",
       "      <th>clv_pred</th>\n",
       "    </tr>\n",
       "  </thead>\n",
       "  <tbody>\n",
       "    <tr>\n",
       "      <th>0</th>\n",
       "      <td>14646</td>\n",
       "      <td>278466.02</td>\n",
       "      <td>193881.407591</td>\n",
       "    </tr>\n",
       "    <tr>\n",
       "      <th>1</th>\n",
       "      <td>18102</td>\n",
       "      <td>230518.12</td>\n",
       "      <td>276436.797121</td>\n",
       "    </tr>\n",
       "    <tr>\n",
       "      <th>2</th>\n",
       "      <td>17450</td>\n",
       "      <td>186231.73</td>\n",
       "      <td>NaN</td>\n",
       "    </tr>\n",
       "    <tr>\n",
       "      <th>3</th>\n",
       "      <td>14911</td>\n",
       "      <td>128047.15</td>\n",
       "      <td>108373.938863</td>\n",
       "    </tr>\n",
       "    <tr>\n",
       "      <th>4</th>\n",
       "      <td>12415</td>\n",
       "      <td>123638.18</td>\n",
       "      <td>NaN</td>\n",
       "    </tr>\n",
       "    <tr>\n",
       "      <th>5</th>\n",
       "      <td>14156</td>\n",
       "      <td>112899.89</td>\n",
       "      <td>145027.616410</td>\n",
       "    </tr>\n",
       "    <tr>\n",
       "      <th>6</th>\n",
       "      <td>17511</td>\n",
       "      <td>84733.19</td>\n",
       "      <td>68045.766614</td>\n",
       "    </tr>\n",
       "    <tr>\n",
       "      <th>7</th>\n",
       "      <td>16684</td>\n",
       "      <td>65892.08</td>\n",
       "      <td>64718.571262</td>\n",
       "    </tr>\n",
       "    <tr>\n",
       "      <th>8</th>\n",
       "      <td>13694</td>\n",
       "      <td>61848.42</td>\n",
       "      <td>102610.211679</td>\n",
       "    </tr>\n",
       "    <tr>\n",
       "      <th>9</th>\n",
       "      <td>15311</td>\n",
       "      <td>57978.51</td>\n",
       "      <td>42071.195950</td>\n",
       "    </tr>\n",
       "    <tr>\n",
       "      <th>10</th>\n",
       "      <td>15061</td>\n",
       "      <td>NaN</td>\n",
       "      <td>64822.727660</td>\n",
       "    </tr>\n",
       "    <tr>\n",
       "      <th>11</th>\n",
       "      <td>13089</td>\n",
       "      <td>NaN</td>\n",
       "      <td>44519.736356</td>\n",
       "    </tr>\n",
       "  </tbody>\n",
       "</table>\n",
       "</div>"
      ],
      "text/plain": [
       "    CustomerID  clv_holdout       clv_pred\n",
       "0        14646    278466.02  193881.407591\n",
       "1        18102    230518.12  276436.797121\n",
       "2        17450    186231.73            NaN\n",
       "3        14911    128047.15  108373.938863\n",
       "4        12415    123638.18            NaN\n",
       "5        14156    112899.89  145027.616410\n",
       "6        17511     84733.19   68045.766614\n",
       "7        16684     65892.08   64718.571262\n",
       "8        13694     61848.42  102610.211679\n",
       "9        15311     57978.51   42071.195950\n",
       "10       15061          NaN   64822.727660\n",
       "11       13089          NaN   44519.736356"
      ]
     },
     "execution_count": 28,
     "metadata": {},
     "output_type": "execute_result"
    }
   ],
   "source": [
    "# get the predicted top 10 customers and actual top 10 customers\n",
    "top_10_pre = returning_cal_holdout[['CustomerID','clv_pred']].sort_values('clv_pred', ascending=False).head(10)\n",
    "top_10 = returning_cal_holdout[['CustomerID', 'clv_holdout']].sort_values('clv_holdout', ascending=False).head(10)\n",
    "top_10.merge(top_10_pre,on='CustomerID',how='outer')"
   ]
  },
  {
   "cell_type": "markdown",
   "metadata": {},
   "source": [
    "### Conclusion\n",
    "\n",
    "To conclude, we can see that eventhough the mean sqared error is high, the model was able to capture majority of the top 10 most valued customers, and only mispredicted 2 customers.\n",
    "\n",
    "This model jointly models the probability to churn, purchase, and the average purchase value. It takes a few simple features, and is quite accurate when we look at the aggregated level."
   ]
  },
  {
   "cell_type": "markdown",
   "metadata": {},
   "source": [
    "### Next Steps\n",
    "\n",
    "Due to it's simplicity, this model probably underfits the data and has inferior predictive performance compared to the more complex machine learning models. Additonally, it cannot take context data (e.g. customer demographics) into account, which also limits the predictive power of the model.\n",
    "\n",
    "For the next steps of this project, there are some improvements we can make:\n",
    "- Fit the model on customer cohorts (ex. split by user country).\n",
    "- Join the model with a linear model with additional features (ex. a customer’s website visits, time since last visit, product reviews, channel of acquisition, etc.)."
   ]
  }
 ],
 "metadata": {
  "kernelspec": {
   "display_name": "Python 3",
   "language": "python",
   "name": "python3"
  },
  "language_info": {
   "codemirror_mode": {
    "name": "ipython",
    "version": 3
   },
   "file_extension": ".py",
   "mimetype": "text/x-python",
   "name": "python",
   "nbconvert_exporter": "python",
   "pygments_lexer": "ipython3",
   "version": "3.7.6"
  }
 },
 "nbformat": 4,
 "nbformat_minor": 4
}
