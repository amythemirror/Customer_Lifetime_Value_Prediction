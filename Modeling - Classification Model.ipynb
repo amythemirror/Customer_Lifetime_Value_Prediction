{
 "cells": [
  {
   "cell_type": "markdown",
   "metadata": {},
   "source": [
    "# Modeling"
   ]
  },
  {
   "cell_type": "markdown",
   "metadata": {},
   "source": [
    "This is a classification problem in supervised learning. We will evaluate below classification algorithms:  \n",
    "1. Logistic Regression  \n",
    "2. K-Nearest Neighbors (KNN)  \n",
    "3. Support vector machine (SVM)  \n",
    "4. Random Forest  \n",
    "5. Naive Bayes  \n",
    "6. Gradient Boost"
   ]
  },
  {
   "cell_type": "code",
   "execution_count": 1,
   "metadata": {},
   "outputs": [],
   "source": [
    "import pandas as pd\n",
    "import numpy as np\n",
    "from sklearn.model_selection import RandomizedSearchCV"
   ]
  },
  {
   "cell_type": "code",
   "execution_count": 2,
   "metadata": {},
   "outputs": [],
   "source": [
    "X_train = pd.read_csv('X_train.csv')\n",
    "X_train_scaled = pd.read_csv('X_train_scaled.csv')\n",
    "X_test = pd.read_csv('X_test.csv')\n",
    "X_test_scaled = pd.read_csv('X_test_scaled.csv')\n",
    "y_train = pd.read_csv('y_train.csv',squeeze=True)\n",
    "y_test = pd.read_csv('y_test.csv',squeeze=True)"
   ]
  },
  {
   "cell_type": "code",
   "execution_count": 3,
   "metadata": {},
   "outputs": [
    {
     "data": {
      "text/html": [
       "<div>\n",
       "<style scoped>\n",
       "    .dataframe tbody tr th:only-of-type {\n",
       "        vertical-align: middle;\n",
       "    }\n",
       "\n",
       "    .dataframe tbody tr th {\n",
       "        vertical-align: top;\n",
       "    }\n",
       "\n",
       "    .dataframe thead th {\n",
       "        text-align: right;\n",
       "    }\n",
       "</style>\n",
       "<table border=\"1\" class=\"dataframe\">\n",
       "  <thead>\n",
       "    <tr style=\"text-align: right;\">\n",
       "      <th></th>\n",
       "      <th>Recency</th>\n",
       "      <th>RecencyCluster</th>\n",
       "      <th>Frequency</th>\n",
       "      <th>FrequencyCluster</th>\n",
       "      <th>Revenue</th>\n",
       "      <th>RevenueCluster</th>\n",
       "      <th>RFM</th>\n",
       "      <th>Country_Austria</th>\n",
       "      <th>Country_Belgium</th>\n",
       "      <th>Country_Channel Islands</th>\n",
       "      <th>...</th>\n",
       "      <th>Country_Poland</th>\n",
       "      <th>Country_Portugal</th>\n",
       "      <th>Country_RSA</th>\n",
       "      <th>Country_Spain</th>\n",
       "      <th>Country_Sweden</th>\n",
       "      <th>Country_Switzerland</th>\n",
       "      <th>Country_USA</th>\n",
       "      <th>Country_United Arab Emirates</th>\n",
       "      <th>Country_United Kingdom</th>\n",
       "      <th>Country_Unspecified</th>\n",
       "    </tr>\n",
       "  </thead>\n",
       "  <tbody>\n",
       "    <tr>\n",
       "      <th>0</th>\n",
       "      <td>-0.189700</td>\n",
       "      <td>0.298513</td>\n",
       "      <td>-0.423252</td>\n",
       "      <td>-0.421507</td>\n",
       "      <td>-0.241232</td>\n",
       "      <td>-0.240966</td>\n",
       "      <td>0.040443</td>\n",
       "      <td>-0.047246</td>\n",
       "      <td>-0.054575</td>\n",
       "      <td>-0.038561</td>\n",
       "      <td>...</td>\n",
       "      <td>-0.027257</td>\n",
       "      <td>-0.054575</td>\n",
       "      <td>-0.027257</td>\n",
       "      <td>-0.06689</td>\n",
       "      <td>-0.047246</td>\n",
       "      <td>-0.027257</td>\n",
       "      <td>-0.027257</td>\n",
       "      <td>-0.027257</td>\n",
       "      <td>0.280112</td>\n",
       "      <td>-0.047246</td>\n",
       "    </tr>\n",
       "    <tr>\n",
       "      <th>1</th>\n",
       "      <td>0.358565</td>\n",
       "      <td>-0.535714</td>\n",
       "      <td>-0.154327</td>\n",
       "      <td>-0.421507</td>\n",
       "      <td>-0.117397</td>\n",
       "      <td>-0.240966</td>\n",
       "      <td>-0.585732</td>\n",
       "      <td>-0.047246</td>\n",
       "      <td>-0.054575</td>\n",
       "      <td>-0.038561</td>\n",
       "      <td>...</td>\n",
       "      <td>-0.027257</td>\n",
       "      <td>-0.054575</td>\n",
       "      <td>-0.027257</td>\n",
       "      <td>-0.06689</td>\n",
       "      <td>-0.047246</td>\n",
       "      <td>-0.027257</td>\n",
       "      <td>-0.027257</td>\n",
       "      <td>-0.027257</td>\n",
       "      <td>0.280112</td>\n",
       "      <td>-0.047246</td>\n",
       "    </tr>\n",
       "    <tr>\n",
       "      <th>2</th>\n",
       "      <td>-1.217697</td>\n",
       "      <td>1.132741</td>\n",
       "      <td>8.989119</td>\n",
       "      <td>5.472296</td>\n",
       "      <td>3.741099</td>\n",
       "      <td>5.883216</td>\n",
       "      <td>3.797499</td>\n",
       "      <td>-0.047246</td>\n",
       "      <td>-0.054575</td>\n",
       "      <td>-0.038561</td>\n",
       "      <td>...</td>\n",
       "      <td>-0.027257</td>\n",
       "      <td>-0.054575</td>\n",
       "      <td>-0.027257</td>\n",
       "      <td>-0.06689</td>\n",
       "      <td>-0.047246</td>\n",
       "      <td>-0.027257</td>\n",
       "      <td>-0.027257</td>\n",
       "      <td>-0.027257</td>\n",
       "      <td>0.280112</td>\n",
       "      <td>-0.047246</td>\n",
       "    </tr>\n",
       "    <tr>\n",
       "      <th>3</th>\n",
       "      <td>-0.498099</td>\n",
       "      <td>0.298513</td>\n",
       "      <td>-0.154327</td>\n",
       "      <td>-0.421507</td>\n",
       "      <td>-0.157006</td>\n",
       "      <td>-0.240966</td>\n",
       "      <td>0.040443</td>\n",
       "      <td>-0.047246</td>\n",
       "      <td>-0.054575</td>\n",
       "      <td>-0.038561</td>\n",
       "      <td>...</td>\n",
       "      <td>-0.027257</td>\n",
       "      <td>-0.054575</td>\n",
       "      <td>-0.027257</td>\n",
       "      <td>-0.06689</td>\n",
       "      <td>-0.047246</td>\n",
       "      <td>-0.027257</td>\n",
       "      <td>-0.027257</td>\n",
       "      <td>-0.027257</td>\n",
       "      <td>0.280112</td>\n",
       "      <td>-0.047246</td>\n",
       "    </tr>\n",
       "    <tr>\n",
       "      <th>4</th>\n",
       "      <td>-1.183430</td>\n",
       "      <td>1.132741</td>\n",
       "      <td>0.114598</td>\n",
       "      <td>-0.421507</td>\n",
       "      <td>-0.146612</td>\n",
       "      <td>-0.240966</td>\n",
       "      <td>0.666619</td>\n",
       "      <td>-0.047246</td>\n",
       "      <td>-0.054575</td>\n",
       "      <td>-0.038561</td>\n",
       "      <td>...</td>\n",
       "      <td>-0.027257</td>\n",
       "      <td>-0.054575</td>\n",
       "      <td>-0.027257</td>\n",
       "      <td>-0.06689</td>\n",
       "      <td>-0.047246</td>\n",
       "      <td>-0.027257</td>\n",
       "      <td>-0.027257</td>\n",
       "      <td>-0.027257</td>\n",
       "      <td>0.280112</td>\n",
       "      <td>-0.047246</td>\n",
       "    </tr>\n",
       "  </tbody>\n",
       "</table>\n",
       "<p>5 rows × 33 columns</p>\n",
       "</div>"
      ],
      "text/plain": [
       "    Recency  RecencyCluster  Frequency  FrequencyCluster   Revenue  \\\n",
       "0 -0.189700        0.298513  -0.423252         -0.421507 -0.241232   \n",
       "1  0.358565       -0.535714  -0.154327         -0.421507 -0.117397   \n",
       "2 -1.217697        1.132741   8.989119          5.472296  3.741099   \n",
       "3 -0.498099        0.298513  -0.154327         -0.421507 -0.157006   \n",
       "4 -1.183430        1.132741   0.114598         -0.421507 -0.146612   \n",
       "\n",
       "   RevenueCluster       RFM  Country_Austria  Country_Belgium  \\\n",
       "0       -0.240966  0.040443        -0.047246        -0.054575   \n",
       "1       -0.240966 -0.585732        -0.047246        -0.054575   \n",
       "2        5.883216  3.797499        -0.047246        -0.054575   \n",
       "3       -0.240966  0.040443        -0.047246        -0.054575   \n",
       "4       -0.240966  0.666619        -0.047246        -0.054575   \n",
       "\n",
       "   Country_Channel Islands  ...  Country_Poland  Country_Portugal  \\\n",
       "0                -0.038561  ...       -0.027257         -0.054575   \n",
       "1                -0.038561  ...       -0.027257         -0.054575   \n",
       "2                -0.038561  ...       -0.027257         -0.054575   \n",
       "3                -0.038561  ...       -0.027257         -0.054575   \n",
       "4                -0.038561  ...       -0.027257         -0.054575   \n",
       "\n",
       "   Country_RSA  Country_Spain  Country_Sweden  Country_Switzerland  \\\n",
       "0    -0.027257       -0.06689       -0.047246            -0.027257   \n",
       "1    -0.027257       -0.06689       -0.047246            -0.027257   \n",
       "2    -0.027257       -0.06689       -0.047246            -0.027257   \n",
       "3    -0.027257       -0.06689       -0.047246            -0.027257   \n",
       "4    -0.027257       -0.06689       -0.047246            -0.027257   \n",
       "\n",
       "   Country_USA  Country_United Arab Emirates  Country_United Kingdom  \\\n",
       "0    -0.027257                     -0.027257                0.280112   \n",
       "1    -0.027257                     -0.027257                0.280112   \n",
       "2    -0.027257                     -0.027257                0.280112   \n",
       "3    -0.027257                     -0.027257                0.280112   \n",
       "4    -0.027257                     -0.027257                0.280112   \n",
       "\n",
       "   Country_Unspecified  \n",
       "0            -0.047246  \n",
       "1            -0.047246  \n",
       "2            -0.047246  \n",
       "3            -0.047246  \n",
       "4            -0.047246  \n",
       "\n",
       "[5 rows x 33 columns]"
      ]
     },
     "execution_count": 3,
     "metadata": {},
     "output_type": "execute_result"
    }
   ],
   "source": [
    "X_train_scaled.head()"
   ]
  },
  {
   "cell_type": "markdown",
   "metadata": {},
   "source": [
    "### Baseline Model"
   ]
  },
  {
   "cell_type": "markdown",
   "metadata": {},
   "source": [
    "We create a simple baseline classifier here to compare with other real classifiers."
   ]
  },
  {
   "cell_type": "code",
   "execution_count": 4,
   "metadata": {},
   "outputs": [
    {
     "name": "stdout",
     "output_type": "stream",
     "text": [
      "The accuracy score of our dummy classifier is 0.9\n",
      "The balanced accuracy score of our dummy classifier is 0.33\n"
     ]
    }
   ],
   "source": [
    "from sklearn.dummy import DummyClassifier\n",
    "from sklearn.metrics import balanced_accuracy_score\n",
    "\n",
    "dummy = DummyClassifier(strategy='most_frequent',random_state=0)\n",
    "dummy.fit(X_train,y_train)\n",
    "y_pred = dummy.predict(X_test)\n",
    "\n",
    "print('The accuracy score of our dummy classifier is {}'.format(round(dummy.score(X_test,y_test),2)))\n",
    "print('The balanced accuracy score of our dummy classifier is {}'.format(round(balanced_accuracy_score(y_test,y_pred),2)))"
   ]
  },
  {
   "cell_type": "markdown",
   "metadata": {},
   "source": [
    "We can see that the accuracy of the baseline model is 0.9, but the balanced accuracy is only 0.33 due to the imbalanced dataset. Classification problems having multiple classes with imbalanced dataset present a different challenge. In order to address this issue, we will use balanced accuracy as the score method for model training"
   ]
  },
  {
   "cell_type": "markdown",
   "metadata": {},
   "source": [
    "### 1. Logistic Regression"
   ]
  },
  {
   "cell_type": "markdown",
   "metadata": {},
   "source": [
    "Some combinations were omitted to cut back on the warnings/errors."
   ]
  },
  {
   "cell_type": "code",
   "execution_count": 5,
   "metadata": {},
   "outputs": [
    {
     "name": "stdout",
     "output_type": "stream",
     "text": [
      "Fitting 5 folds for each of 10 candidates, totalling 50 fits\n"
     ]
    },
    {
     "name": "stderr",
     "output_type": "stream",
     "text": [
      "[Parallel(n_jobs=-1)]: Using backend LokyBackend with 16 concurrent workers.\n",
      "[Parallel(n_jobs=-1)]: Done   9 tasks      | elapsed:    1.8s\n",
      "[Parallel(n_jobs=-1)]: Done  45 out of  50 | elapsed:    2.4s remaining:    0.2s\n",
      "[Parallel(n_jobs=-1)]: Done  50 out of  50 | elapsed:    2.6s finished\n"
     ]
    },
    {
     "data": {
      "text/plain": [
       "{'solver': 'liblinear', 'penalty': 'l2', 'C': 1}"
      ]
     },
     "execution_count": 5,
     "metadata": {},
     "output_type": "execute_result"
    }
   ],
   "source": [
    "from sklearn.linear_model import LogisticRegression\n",
    "import warnings\n",
    "warnings.filterwarnings(\"ignore\") \n",
    "\n",
    "lr = LogisticRegression(max_iter=1000,random_state=0)\n",
    "param_distributions = {\n",
    "                        'C': [0.01,0.1,1,10,100],\n",
    "                        'penalty': ['l1','l2'],\n",
    "                        'solver': ['newton-cg','lbfgs','liblinear','sag','saga']\n",
    "}\n",
    "search = RandomizedSearchCV(lr,param_distributions,scoring='balanced_accuracy',cv=5,random_state=0,verbose=2,n_jobs=-1)\n",
    "\n",
    "search.fit(X_train_scaled,y_train)\n",
    "search.best_params_"
   ]
  },
  {
   "cell_type": "code",
   "execution_count": 6,
   "metadata": {},
   "outputs": [],
   "source": [
    "lr = search.best_estimator_\n",
    "# lr.score(X_test_scaled,y_test)"
   ]
  },
  {
   "cell_type": "markdown",
   "metadata": {},
   "source": [
    "### 2. K-Nearest Neighbors (KNN)"
   ]
  },
  {
   "cell_type": "code",
   "execution_count": 7,
   "metadata": {},
   "outputs": [
    {
     "name": "stdout",
     "output_type": "stream",
     "text": [
      "Fitting 5 folds for each of 10 candidates, totalling 50 fits\n"
     ]
    },
    {
     "name": "stderr",
     "output_type": "stream",
     "text": [
      "[Parallel(n_jobs=-1)]: Using backend LokyBackend with 16 concurrent workers.\n",
      "[Parallel(n_jobs=-1)]: Done   9 tasks      | elapsed:    0.0s\n",
      "[Parallel(n_jobs=-1)]: Done  45 out of  50 | elapsed:    0.1s remaining:    0.0s\n",
      "[Parallel(n_jobs=-1)]: Done  50 out of  50 | elapsed:    0.1s finished\n"
     ]
    },
    {
     "data": {
      "text/plain": [
       "{'weights': 'uniform', 'n_neighbors': 3, 'metric': 'manhattan'}"
      ]
     },
     "execution_count": 7,
     "metadata": {},
     "output_type": "execute_result"
    }
   ],
   "source": [
    "from sklearn.neighbors import KNeighborsClassifier\n",
    "\n",
    "knn = KNeighborsClassifier()\n",
    "param_distributions = {\n",
    "                        'n_neighbors': list(range(1,21,2)),\n",
    "                        'weights': ['uniform','distance'],\n",
    "                        'metric': ['euclidean','manhattan','minkowski']\n",
    "}\n",
    "search = RandomizedSearchCV(knn,param_distributions,scoring='balanced_accuracy',cv=5,random_state=0,verbose=2,n_jobs=-1)\n",
    "\n",
    "search.fit(X_train_scaled,y_train)\n",
    "search.best_params_"
   ]
  },
  {
   "cell_type": "code",
   "execution_count": 8,
   "metadata": {},
   "outputs": [],
   "source": [
    "knn = search.best_estimator_\n",
    "# knn.score(X_test_scaled,y_test)"
   ]
  },
  {
   "cell_type": "markdown",
   "metadata": {},
   "source": [
    "### 3. Support Vector Machine (SVM)"
   ]
  },
  {
   "cell_type": "code",
   "execution_count": 9,
   "metadata": {},
   "outputs": [
    {
     "name": "stderr",
     "output_type": "stream",
     "text": [
      "[Parallel(n_jobs=-1)]: Using backend LokyBackend with 16 concurrent workers.\n"
     ]
    },
    {
     "name": "stdout",
     "output_type": "stream",
     "text": [
      "Fitting 5 folds for each of 10 candidates, totalling 50 fits\n"
     ]
    },
    {
     "name": "stderr",
     "output_type": "stream",
     "text": [
      "[Parallel(n_jobs=-1)]: Done   9 tasks      | elapsed:    0.2s\n",
      "[Parallel(n_jobs=-1)]: Done  45 out of  50 | elapsed:    1.4s remaining:    0.1s\n",
      "[Parallel(n_jobs=-1)]: Done  50 out of  50 | elapsed:  1.5min finished\n"
     ]
    },
    {
     "data": {
      "text/plain": [
       "{'kernel': 'linear', 'gamma': 0.01, 'C': 100}"
      ]
     },
     "execution_count": 9,
     "metadata": {},
     "output_type": "execute_result"
    }
   ],
   "source": [
    "from sklearn.svm import SVC\n",
    "\n",
    "svc = SVC(probability=True)\n",
    "param_distributions = {\n",
    "                        'C': [0.1, 1, 10, 100],\n",
    "                        'kernel': ['linear','poly','rbf','sigmoid'],\n",
    "                        'gamma': [10, 1, 0.1, 0.01, 0.001, 0.0001]\n",
    "}\n",
    "search = RandomizedSearchCV(svc,param_distributions,scoring='balanced_accuracy',cv=5,random_state=0,verbose=2,n_jobs=-1)\n",
    "\n",
    "search.fit(X_train_scaled,y_train)\n",
    "search.best_params_"
   ]
  },
  {
   "cell_type": "code",
   "execution_count": 10,
   "metadata": {},
   "outputs": [],
   "source": [
    "svc = search.best_estimator_\n",
    "# svc.score(X_test_scaled,y_test)"
   ]
  },
  {
   "cell_type": "markdown",
   "metadata": {},
   "source": [
    "### 4. Random Forest"
   ]
  },
  {
   "cell_type": "code",
   "execution_count": 11,
   "metadata": {},
   "outputs": [
    {
     "name": "stdout",
     "output_type": "stream",
     "text": [
      "Fitting 5 folds for each of 10 candidates, totalling 50 fits\n"
     ]
    },
    {
     "name": "stderr",
     "output_type": "stream",
     "text": [
      "[Parallel(n_jobs=-1)]: Using backend LokyBackend with 16 concurrent workers.\n",
      "[Parallel(n_jobs=-1)]: Done   9 tasks      | elapsed:    0.4s\n",
      "[Parallel(n_jobs=-1)]: Done  45 out of  50 | elapsed:    4.0s remaining:    0.4s\n",
      "[Parallel(n_jobs=-1)]: Done  50 out of  50 | elapsed:    5.0s finished\n"
     ]
    },
    {
     "data": {
      "text/plain": [
       "{'n_estimators': 1000, 'max_features': 15, 'criterion': 'gini'}"
      ]
     },
     "execution_count": 11,
     "metadata": {},
     "output_type": "execute_result"
    }
   ],
   "source": [
    "from sklearn.ensemble import RandomForestClassifier\n",
    "\n",
    "rf = RandomForestClassifier(random_state=0)\n",
    "param_distributions = {\n",
    "                        'n_estimators': [10, 100, 1000],\n",
    "                        'criterion': ['gini','entropy'],\n",
    "                        'max_features': [1,5,10,15,20]\n",
    "}\n",
    "search = RandomizedSearchCV(rf,param_distributions,scoring='balanced_accuracy',cv=5,random_state=0,verbose=2,n_jobs=-1)\n",
    "\n",
    "search.fit(X_train,y_train)\n",
    "search.best_params_"
   ]
  },
  {
   "cell_type": "code",
   "execution_count": 12,
   "metadata": {},
   "outputs": [],
   "source": [
    "rf = search.best_estimator_\n",
    "# rf.score(X_test,y_test)"
   ]
  },
  {
   "cell_type": "markdown",
   "metadata": {},
   "source": [
    "### 5. Gaussian Naive Bayes"
   ]
  },
  {
   "cell_type": "code",
   "execution_count": 13,
   "metadata": {},
   "outputs": [
    {
     "name": "stdout",
     "output_type": "stream",
     "text": [
      "Fitting 5 folds for each of 5 candidates, totalling 25 fits\n"
     ]
    },
    {
     "name": "stderr",
     "output_type": "stream",
     "text": [
      "[Parallel(n_jobs=-1)]: Using backend LokyBackend with 16 concurrent workers.\n",
      "[Parallel(n_jobs=-1)]: Done   7 out of  25 | elapsed:    0.0s remaining:    0.0s\n",
      "[Parallel(n_jobs=-1)]: Done  20 out of  25 | elapsed:    0.0s remaining:    0.0s\n",
      "[Parallel(n_jobs=-1)]: Done  25 out of  25 | elapsed:    0.0s finished\n"
     ]
    },
    {
     "data": {
      "text/plain": [
       "{'var_smoothing': 1e-09}"
      ]
     },
     "execution_count": 13,
     "metadata": {},
     "output_type": "execute_result"
    }
   ],
   "source": [
    "from sklearn.naive_bayes import GaussianNB\n",
    "\n",
    "nb = GaussianNB()\n",
    "param_distributions = {'var_smoothing': np.logspace(0,-9, num=5)}\n",
    "search = RandomizedSearchCV(nb,param_distributions,scoring='balanced_accuracy',cv=5,random_state=0,verbose=2,n_jobs=-1)\n",
    "\n",
    "search.fit(X_train,y_train)\n",
    "search.best_params_"
   ]
  },
  {
   "cell_type": "code",
   "execution_count": 14,
   "metadata": {},
   "outputs": [],
   "source": [
    "nb = search.best_estimator_\n",
    "# nb.score(X_test,y_test)"
   ]
  },
  {
   "cell_type": "markdown",
   "metadata": {},
   "source": [
    "### 6. Gradient Boost - XGBoost"
   ]
  },
  {
   "cell_type": "code",
   "execution_count": 15,
   "metadata": {},
   "outputs": [
    {
     "name": "stdout",
     "output_type": "stream",
     "text": [
      "Fitting 5 folds for each of 10 candidates, totalling 50 fits\n"
     ]
    },
    {
     "name": "stderr",
     "output_type": "stream",
     "text": [
      "[Parallel(n_jobs=-1)]: Using backend LokyBackend with 16 concurrent workers.\n",
      "[Parallel(n_jobs=-1)]: Done   9 tasks      | elapsed:    0.3s\n",
      "[Parallel(n_jobs=-1)]: Done  45 out of  50 | elapsed:    1.1s remaining:    0.0s\n",
      "[Parallel(n_jobs=-1)]: Done  50 out of  50 | elapsed:    1.3s finished\n"
     ]
    },
    {
     "data": {
      "text/plain": [
       "{'subsample': 1,\n",
       " 'reg_lambda': 1,\n",
       " 'reg_alpha': 1,\n",
       " 'max_depth': 10,\n",
       " 'learning_rate': 0.001,\n",
       " 'gamma': 1,\n",
       " 'colsample_bytree': 1}"
      ]
     },
     "execution_count": 15,
     "metadata": {},
     "output_type": "execute_result"
    }
   ],
   "source": [
    "import xgboost as xgb\n",
    "\n",
    "xgb = xgb.XGBClassifier()\n",
    "param_distributions = {\n",
    "                        'learning_rate': [0.001,0.01,0.1],\n",
    "                        'max_depth': [2,5,10,20],  \n",
    "                        'gamma': [0.05,0.1,0.5,1],\n",
    "                        'reg_lambda': [0.01,0.1,1],\n",
    "                        'reg_alpha': [0,0.1,0.5,1],\n",
    "                        'subsample': [0.6,0.8,1],\n",
    "                        'colsample_bytree': [0.6,0.8,1]\n",
    "}\n",
    "search = RandomizedSearchCV(xgb,param_distributions,scoring='balanced_accuracy',cv=5,random_state=0,verbose=2,n_jobs=-1)\n",
    "\n",
    "search.fit(X_train,y_train)\n",
    "search.best_params_"
   ]
  },
  {
   "cell_type": "code",
   "execution_count": 16,
   "metadata": {},
   "outputs": [],
   "source": [
    "xgb = search.best_estimator_\n",
    "# xgb.score(X_test,y_test)"
   ]
  },
  {
   "cell_type": "markdown",
   "metadata": {},
   "source": [
    "### Model Performance Comparison"
   ]
  },
  {
   "cell_type": "markdown",
   "metadata": {},
   "source": [
    "Since this is an imbalanced dataset and we want to make sure that all classes contribute equally to the average, so we choose macro average for the metrics.  \n",
    "  \n",
    "We will use below metrics to compare our models:  \n",
    "- Balanced Accuracy  \n",
    "- Macro-Averaged Precision  \n",
    "- Macro-Averaged Recall  \n",
    "- Macro-Averaged F1\n",
    "- ROC-AUC (OvO scheme)"
   ]
  },
  {
   "cell_type": "code",
   "execution_count": 17,
   "metadata": {},
   "outputs": [],
   "source": [
    "# Define dictionary with performance metrics\n",
    "scoring = {'accuracy':'balanced_accuracy', \n",
    "           'precision':'precision_macro',\n",
    "           'recall':'recall_macro', \n",
    "           'f1':'f1_macro',\n",
    "           'roc-auc':'roc_auc_ovo'}"
   ]
  },
  {
   "cell_type": "code",
   "execution_count": 18,
   "metadata": {},
   "outputs": [],
   "source": [
    "from sklearn.model_selection import cross_validate\n",
    "\n",
    "# Define the models evaluation function\n",
    "def models_evaluation(X, X_scaled, y, folds):\n",
    "    \n",
    "    '''\n",
    "    X : data set features\n",
    "    y : data set target\n",
    "    folds : number of cross-validation folds\n",
    "    \n",
    "    '''\n",
    "    models = [dummy,lr,knn,svc,rf,nb,xgb]\n",
    "    columns=['Baseline','Logistic Regression','K-Nearest Neighbor','Support Vector Machine','Random Forest','Naive Bayes','XGBoost']\n",
    "    models_scores_table = pd.DataFrame(index=['Accuracy', 'Precision', 'Recall', 'F1 Score', 'ROC-AUC'])\n",
    "    \n",
    "    # Perform cross-validation to each machine learning classifier\n",
    "    for model, column in zip(models, columns):\n",
    "        \n",
    "        if model in [lr,knn,svc]:\n",
    "            cv = cross_validate(model, X_scaled, y, cv=folds, scoring=scoring)\n",
    "        else:\n",
    "            cv = cross_validate(model, X, y, cv=folds, scoring=scoring)\n",
    "\n",
    "        # Create a data frame with the models perfoamnce metrics scores\n",
    "        models_scores_table[column] = [scores.mean() for scores in cv.values()][2:]\n",
    "    \n",
    "    # Add 'Best Score' column\n",
    "    models_scores_table['Best Score'] = models_scores_table.idxmax(axis=1)\n",
    "    \n",
    "    # Return models performance metrics scores data frame\n",
    "    return(models_scores_table)"
   ]
  },
  {
   "cell_type": "code",
   "execution_count": 19,
   "metadata": {},
   "outputs": [
    {
     "data": {
      "text/html": [
       "<div>\n",
       "<style scoped>\n",
       "    .dataframe tbody tr th:only-of-type {\n",
       "        vertical-align: middle;\n",
       "    }\n",
       "\n",
       "    .dataframe tbody tr th {\n",
       "        vertical-align: top;\n",
       "    }\n",
       "\n",
       "    .dataframe thead th {\n",
       "        text-align: right;\n",
       "    }\n",
       "</style>\n",
       "<table border=\"1\" class=\"dataframe\">\n",
       "  <thead>\n",
       "    <tr style=\"text-align: right;\">\n",
       "      <th></th>\n",
       "      <th>Baseline</th>\n",
       "      <th>Logistic Regression</th>\n",
       "      <th>K-Nearest Neighbor</th>\n",
       "      <th>Support Vector Machine</th>\n",
       "      <th>Random Forest</th>\n",
       "      <th>Naive Bayes</th>\n",
       "      <th>XGBoost</th>\n",
       "      <th>Best Score</th>\n",
       "    </tr>\n",
       "  </thead>\n",
       "  <tbody>\n",
       "    <tr>\n",
       "      <th>Accuracy</th>\n",
       "      <td>0.333333</td>\n",
       "      <td>0.560732</td>\n",
       "      <td>0.611121</td>\n",
       "      <td>0.585866</td>\n",
       "      <td>0.615754</td>\n",
       "      <td>0.680230</td>\n",
       "      <td>0.645276</td>\n",
       "      <td>Naive Bayes</td>\n",
       "    </tr>\n",
       "    <tr>\n",
       "      <th>Precision</th>\n",
       "      <td>0.290771</td>\n",
       "      <td>0.707158</td>\n",
       "      <td>0.750281</td>\n",
       "      <td>0.735226</td>\n",
       "      <td>0.705380</td>\n",
       "      <td>0.642012</td>\n",
       "      <td>0.769571</td>\n",
       "      <td>XGBoost</td>\n",
       "    </tr>\n",
       "    <tr>\n",
       "      <th>Recall</th>\n",
       "      <td>0.333333</td>\n",
       "      <td>0.560732</td>\n",
       "      <td>0.611121</td>\n",
       "      <td>0.585866</td>\n",
       "      <td>0.615754</td>\n",
       "      <td>0.680230</td>\n",
       "      <td>0.645276</td>\n",
       "      <td>Naive Bayes</td>\n",
       "    </tr>\n",
       "    <tr>\n",
       "      <th>F1 Score</th>\n",
       "      <td>0.310600</td>\n",
       "      <td>0.599440</td>\n",
       "      <td>0.653152</td>\n",
       "      <td>0.630629</td>\n",
       "      <td>0.646898</td>\n",
       "      <td>0.655291</td>\n",
       "      <td>0.670927</td>\n",
       "      <td>XGBoost</td>\n",
       "    </tr>\n",
       "    <tr>\n",
       "      <th>ROC-AUC</th>\n",
       "      <td>0.500000</td>\n",
       "      <td>0.753235</td>\n",
       "      <td>0.750969</td>\n",
       "      <td>0.734477</td>\n",
       "      <td>0.822223</td>\n",
       "      <td>0.824866</td>\n",
       "      <td>0.814786</td>\n",
       "      <td>Naive Bayes</td>\n",
       "    </tr>\n",
       "  </tbody>\n",
       "</table>\n",
       "</div>"
      ],
      "text/plain": [
       "           Baseline  Logistic Regression  K-Nearest Neighbor  \\\n",
       "Accuracy   0.333333             0.560732            0.611121   \n",
       "Precision  0.290771             0.707158            0.750281   \n",
       "Recall     0.333333             0.560732            0.611121   \n",
       "F1 Score   0.310600             0.599440            0.653152   \n",
       "ROC-AUC    0.500000             0.753235            0.750969   \n",
       "\n",
       "           Support Vector Machine  Random Forest  Naive Bayes   XGBoost  \\\n",
       "Accuracy                 0.585866       0.615754     0.680230  0.645276   \n",
       "Precision                0.735226       0.705380     0.642012  0.769571   \n",
       "Recall                   0.585866       0.615754     0.680230  0.645276   \n",
       "F1 Score                 0.630629       0.646898     0.655291  0.670927   \n",
       "ROC-AUC                  0.734477       0.822223     0.824866  0.814786   \n",
       "\n",
       "            Best Score  \n",
       "Accuracy   Naive Bayes  \n",
       "Precision      XGBoost  \n",
       "Recall     Naive Bayes  \n",
       "F1 Score       XGBoost  \n",
       "ROC-AUC    Naive Bayes  "
      ]
     },
     "execution_count": 19,
     "metadata": {},
     "output_type": "execute_result"
    }
   ],
   "source": [
    "models_evaluation(X_train, X_train_scaled, y_train, 5)"
   ]
  },
  {
   "cell_type": "markdown",
   "metadata": {},
   "source": [
    "### Final Model Evaluation"
   ]
  },
  {
   "cell_type": "markdown",
   "metadata": {},
   "source": [
    "From the model performance comparison table above, we can see that Naive Bayes and XGBoost models are more effective in predicting the LTV clusters. We will further evaluate these two models."
   ]
  },
  {
   "cell_type": "code",
   "execution_count": 20,
   "metadata": {},
   "outputs": [],
   "source": [
    "from sklearn.metrics import plot_confusion_matrix\n",
    "from sklearn.metrics import classification_report"
   ]
  },
  {
   "cell_type": "markdown",
   "metadata": {},
   "source": [
    "#### Gaussian Naive Bayes"
   ]
  },
  {
   "cell_type": "code",
   "execution_count": 21,
   "metadata": {},
   "outputs": [
    {
     "name": "stdout",
     "output_type": "stream",
     "text": [
      "              precision    recall  f1-score   support\n",
      "\n",
      "           0       0.96      0.94      0.95       405\n",
      "           1       0.49      0.59      0.53        41\n",
      "           2       0.50      0.75      0.60         4\n",
      "\n",
      "    accuracy                           0.91       450\n",
      "   macro avg       0.65      0.76      0.70       450\n",
      "weighted avg       0.92      0.91      0.91       450\n",
      "\n"
     ]
    },
    {
     "data": {
      "text/plain": [
       "<sklearn.metrics._plot.confusion_matrix.ConfusionMatrixDisplay at 0x2278ad4e9c8>"
      ]
     },
     "execution_count": 21,
     "metadata": {},
     "output_type": "execute_result"
    },
    {
     "data": {
      "image/png": "[encoded data removed]",
      "text/plain": [
       "<Figure size 432x288 with 2 Axes>"
      ]
     },
     "metadata": {
      "needs_background": "light"
     },
     "output_type": "display_data"
    }
   ],
   "source": [
    "# classification report\n",
    "y_pred_nb = nb.predict(X_test)\n",
    "print(classification_report(y_test, y_pred_nb))\n",
    "\n",
    "# plot the confusion matrix\n",
    "plot_confusion_matrix(nb,X_test,y_test)"
   ]
  },
  {
   "cell_type": "markdown",
   "metadata": {},
   "source": [
    "#### Gradient Boost - XGBoost"
   ]
  },
  {
   "cell_type": "code",
   "execution_count": 22,
   "metadata": {
    "scrolled": true
   },
   "outputs": [
    {
     "name": "stdout",
     "output_type": "stream",
     "text": [
      "              precision    recall  f1-score   support\n",
      "\n",
      "           0       0.95      0.99      0.96       405\n",
      "           1       0.65      0.32      0.43        41\n",
      "           2       0.38      0.75      0.50         4\n",
      "\n",
      "    accuracy                           0.92       450\n",
      "   macro avg       0.66      0.68      0.63       450\n",
      "weighted avg       0.91      0.92      0.91       450\n",
      "\n"
     ]
    },
    {
     "data": {
      "text/plain": [
       "<sklearn.metrics._plot.confusion_matrix.ConfusionMatrixDisplay at 0x22790ae9088>"
      ]
     },
     "execution_count": 22,
     "metadata": {},
     "output_type": "execute_result"
    },
    {
     "data": {
      "image/png": "[encoded data removed]",
      "text/plain": [
       "<Figure size 432x288 with 2 Axes>"
      ]
     },
     "metadata": {
      "needs_background": "light"
     },
     "output_type": "display_data"
    }
   ],
   "source": [
    "# classification report\n",
    "y_pred_xgb = xgb.predict(X_test)\n",
    "print(classification_report(y_test, y_pred_xgb))\n",
    "\n",
    "# plot the confusion matrix\n",
    "plot_confusion_matrix(xgb,X_test,y_test)"
   ]
  },
  {
   "cell_type": "markdown",
   "metadata": {},
   "source": [
    "### Conclusion\n",
    "\n",
    "It's import for businesses to identify their high LTV customers and establish specific marketing strategies for these customers. The Naive Bayes and XGBoost models both successfully identified 75% of actual high LTV (cluster 2) customers (recall), but Naive Bayes did a better job identifying mid LTV (cluster 1) customers. We will choose the Gaussian Naive Bayes model as the final model."
   ]
  },
  {
   "cell_type": "code",
   "execution_count": 25,
   "metadata": {},
   "outputs": [],
   "source": [
    "import pickle\n",
    "\n",
    "# saving the model\n",
    "with open('gaussian naive bayes model', 'wb') as file:\n",
    "    pickle.dump(nb,file)"
   ]
  },
  {
   "cell_type": "markdown",
   "metadata": {},
   "source": [
    "### Next Steps"
   ]
  },
  {
   "cell_type": "markdown",
   "metadata": {},
   "source": [
    "The final model only correctly identified 59% mid LTV customers in our test dataset. There is certainly room for improvement.\n",
    "\n",
    "Possible actions to improve: \n",
    "- Adding more features and improve feature engineering  \n",
    "- Add more data to the model if possible\n",
    "\n",
    "There are also various techniques we can adopt to improve the model performance of imbalanced datasets:\n",
    "- Under-sampling: Remove samples from over-represented classes\n",
    "- Over-sampling: Add more samples from under-represented classes"
   ]
  }
 ],
 "metadata": {
  "kernelspec": {
   "display_name": "Python 3",
   "language": "python",
   "name": "python3"
  },
  "language_info": {
   "codemirror_mode": {
    "name": "ipython",
    "version": 3
   },
   "file_extension": ".py",
   "mimetype": "text/x-python",
   "name": "python",
   "nbconvert_exporter": "python",
   "pygments_lexer": "ipython3",
   "version": "3.7.6"
  }
 },
 "nbformat": 4,
 "nbformat_minor": 4
}
